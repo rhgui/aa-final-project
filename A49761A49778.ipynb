{
 "cells": [
  {
   "cell_type": "markdown",
   "id": "5796d660476bcd9d",
   "metadata": {},
   "source": [
    "<center><img width=\"150\" src=\"imagens/logo.png\"/></center>\n",
    "\n",
    "<div style=\"text-align: center;\">\n",
    "  <h1>Licenciatura em Engenharia Informática e Multimédia</h1>\n",
    "  <h2>Trabalho Laboratorial - Aprendizagem Automática</h2>\n",
    "</div>\n",
    "\n",
    "<center>\n",
    "    <img src=\"imagens/capa.png\">\n",
    "</center>\n",
    "<br/>\n",
    "<br/>\n",
    "<br/>\n",
    "<br/>\n",
    "<center> <b>49778</b> Maria Joana Pires</center>\n",
    "<center> <b>49761</b> Rafael Henriques Guilherme</center>\n",
    "\n",
    "<div style=\"text-align: center;\">\n",
    "  Professor Gonçalo Xufre<br />\n",
    "  Turma 52D\n",
    "</div>\n",
    "<br/>\n",
    "<br/>\n",
    "<br/>\n",
    "<br/>\n",
    "<br/>\n",
    "\n",
    "#### <center>19 de janeiro de 2024<br/>04:19<br />Lisboa</center>"
   ]
  },
  {
   "cell_type": "markdown",
   "id": "dc0c330a3756d592",
   "metadata": {},
   "source": [
    "<!-- mini introdução ? -->\n",
    "<div style=\"text-align: justify;text-justify: inter-word;\"> Este relatório aborda os conceitos básicos da aprendizagem automática e as suas várias subsecções lecionadas durante o percurso das aulas com o professor Gonçalo Xufre. Nas seguintes secções serão apresentadas respostas a perguntas como \"qual o melhor algoritmo a utilizar em diferentes cenários\" ou \"o que é a aprendizagem automática\", e também propostas soluções para os desafios colocados para este trabalho laboratorial. </div>\n",
    "<!-- aprendizagem automatica -->\n",
    "<center>\n",
    "  <h2 style=\"color:#126D99\"> Aprendizagem Automática, o que significa? </h2>\n",
    "</center>\n",
    "<!-- mini explicação do que é aprendizagem automatica -->\n",
    "<div style=\"text-align: justify;text-justify: inter-word;\"> A aprendizagem automática (ou <i>AA</i>) é uma área da ciência da computação que incide no estudo e desenvolvimento de algoritmos que permitem aos computadores aprenderem a realizar tarefas sem a necessidade de serem explicitamente programados para o efeito. Neste contexto, \"aprender\" significa que o algoritmo é capaz de melhorar o desempenho na realização de uma tarefa à medida que é exposto a mais dados. Deste modo, a <i>AA</i> tem uma ampla gama de aplicações em diversas áreas, incluindo:\n",
    "  <!-- lista de aplicações nas areas de aa -->\n",
    "  <ul>\n",
    "    <li>\n",
    "      <b>Visão computacional</b> A <i>AA</i> é utilizada para interpretar vídeos e imagens, como é o exemplo do reconhecimento de objetos.\n",
    "    </li>\n",
    "    <li>\n",
    "        <b>Processamento de linguagem natural (<i>NLP</i>)</b> A <i>AA</i> é utilizada para compreender e processar linguagem natural, como por exemplo, a geração de texto ou a análise de críticas de cerveja ( <i>sentiment analysis</i>).\n",
    "    </li>\n",
    "    <li>\n",
    "      <b>Reconhecimento de padrões</b> A <i>AA</i> é utilizada, também, para identificar padrões em dados, como por exemplo, o reconhecimento facial, a classificação de e-mails ou até mesmo a deteção de fraudes.\n",
    "    </li>\n",
    "  </ul> Durante este trabalho serão abordados vários temas e, nomeadamente, termos técnicos que poderão levantar algumas dúvidas. Alguns dos mais comuns são: <ul>\n",
    "    <li>\n",
    "      <b>Algoritmo</b> Uma sequência de instruções que definem um processo.\n",
    "    </li>\n",
    "    <li>\n",
    "      <b>Dados</b> Conjunto de informações utilizado para treinar um algoritmo.\n",
    "    </li>\n",
    "    <li>\n",
    "      <b>Treino</b> Processo de exposição de um algoritmo a dados de modo a que este possa aprender a realizar uma tarefa.\n",
    "    </li>\n",
    "    <li>\n",
    "      <b>Desempenho</b> Capacidade ( <i>score</i>) de um algoritmo após a realização de uma tarefa.\n",
    "    </li>\n",
    "    <li>\n",
    "      <b>Padrões</b> Regularidades ou repetições que podem ser observadas nos dados.\n",
    "    </li>\n",
    "  </ul> Com isto, podemos dizer que a <i>AA</i>, por poucas palavras, são algoritmos que, para uma dada tarefa, \"aprendem\" com os dados e melhoram com experiência sem necessitarem de ser explicitamente programados.\n",
    "</div>\n",
    "<h2 style=\"color:#126D99\">Tipos de Aprendizagem Automática </h2>\n",
    "<div style=\"text-align: justify;text-justify: inter-word;\"> Existem vários tipos de aprendizagem no entanto apenas serão abordados dois tipos - a aprendizagem <b>supervisionada</b> e <b> a não supervisionada</b>. <h3 style=\"color:#126D99\">Aprendizagem Supervisionada</h3> Os algoritmos de <i>AA</i> criam um modelo matemático para um conjunto de dados que contêm exemplos de entradas e saídas desejadas. O processo de treino do modelo ocorre através de dados etiquetados (labelled data), em que as etiquetas estão disponíveis com a resposta pretendida. O objetivo do algoritmo é estimar o mapeamento entre os exemplos de entrada e as saídas desejadas. <h5 style=\"color:#126D99\">\n",
    "    <b>Definições</b>\n",
    "  </h5>\n",
    "  <ul>\n",
    "    <li>\n",
    "      <b>Exemplos de entradas</b> Informações fornecidas ao algoritmo para que ele possa aprender.\n",
    "    </li>\n",
    "    <li>\n",
    "      <b>Saída desejada</b> É o resultado esperado para o exemplo de entrada.\n",
    "    </li>\n",
    "    <li>\n",
    "      <b>Mapeamento</b> É a relação entre os exemlos de entrada e as saídas desejadas.\n",
    "    </li>\n",
    "  </ul>\n",
    "  <span style=\"color:#126D99\">Exemplos de aplicações são:</span>\n",
    "  <ul>\n",
    "    <li>\n",
    "      <b>Classificação</b> Os dados estão divididos em duas ( <b>classificação binária</b>) ou mais classes ( <b>classificação multi-classe</b>) e o objetivo é decidir a quais classes pertencem os novos dados. Pode ser, por exemplo, utilizado para classificar imagens de gatos e cães ou se uma crítica é positiva ou negativa.\n",
    "    </li>\n",
    "    <li>\n",
    "      <b>Regressão</b> Prever o valor de uma dada variável baseada nos valores de outras. Por exemplo, pode ser utilizado para prever o preço de uma casa com base nas suas características, seria exemplo o uso do <i>Boston Housing Dataset</i>.\n",
    "    </li>\n",
    "  </ul>\n",
    "  <h3 style=\"color:#126D99\">Aprendizagem <u>não</u> Supervisionada </h3> É um tipo de aprendizagem automática em que o algoritmo é fornecido com um conjunto de dados que não inclui exemplos de entrada e saídas desejadas, <b>ao contrário da aprendizagem supervisionada!</b>. O objetivo do algoritmo é encontrar padrões (estruturas, repetições, ordem) nos dados. <span style=\"color:#126D99\">Exemplos de aplicações são:</span>\n",
    "  <ul>\n",
    "    <li>\n",
    "      <b>Clustering</b> Agrupar os dados em grupos com características semelhantes. Por exemplo, pode ser utilizado para agrupar clientes de um banco com base no histórico de compras.\n",
    "    </li>\n",
    "    <li>\n",
    "      <b>Pré-processamento e redução da dimensão dos dados</b> Reduzir o número de variáveis num conjunto de dados sem perder informação importante. Por exemplo, reduzir o tamanho de um conjunto de dados de imagens sem perder a capacidade de identificar os objetos nas imagens.\n",
    "    </li>\n",
    "  </ul> Em suma, o tipo supervisionado é adequado para tarefas em que os dados estão etiquetados, enquanto o tipo não supervisionado é adequado para tarefas em que os dados não estão etiquetados. A seguinte figura resume os dois tipos de aprendizagem que estudámos: <center>\n",
    "    <figure>\n",
    "      <img src=\"imagens/tipos_aprendizagem.drawio.png\" width=\"30%\">\n",
    "      <figcaption>Figura 1 - Tipos de Aprendizagem</figcaption>\n",
    "    </figure>\n",
    "  </center>\n",
    "</div>\n",
    "<!-- sistema de classificação -->\n",
    "<center>\n",
    "  <h2 style=\"color:#126D99\"> Aprendizagem Automática, o que significa? </h2>\n",
    "</center>\n",
    "<!-- tipos de classificação -->\n",
    "<div style=\"text-align: justify;text-justify: inter-word;\"> Como explicado anteriormente, a classificação é a tarefa de atribuir uma etiqueta ( <i>label</i>) a um dado, que pode pertencer a duas ou mais classes. A construção do modelo de classificação é baseada num conjunto de dados para os quais se conhece a classe, e é composta pelas seguintes etapas: <ol style=\"color:#126D99\">\n",
    "    <li>\n",
    "      <b>Seleção do algoritmo de classificação.</b>\n",
    "    </li>\n",
    "    <li>\n",
    "      <b>Treino do modelo.</b>\n",
    "    </li>\n",
    "    <li>\n",
    "      <b>Avaliação do modelo.</b>\n",
    "    </li>\n",
    "  </ol>\n",
    "  <h5 style=\"color:#126D99\">\n",
    "    <b>Tipos de Classificação</b>\n",
    "  </h5>\n",
    "  <ul>\n",
    "    <li>\n",
    "      <b>Classificação Multiclasse</b> Este é o cenário mais comum no contexto de classificação pois cada dado pertence a uma classe, e as classes são mutuamente exclusivas, ou seja, um dado não pode pertencer a mais de uma classe.\n",
    "    </li>\n",
    "    <li>\n",
    "      <b>Classificação Binária</b> A classificação binária é um caso de classificação multiclasse, no entanto só com duas classes.\n",
    "    </li>\n",
    "    <li>\n",
    "      <b>Classificação Multilabel</b> Como a classificação multi-label pouco importa para este trabalho laboratorial, não vamos abordar este tipo de classificação. No entanto, é importante mencioná-lo, pois é um tipo de classificação que é bastante utilizado.\n",
    "    </li>\n",
    "  </ul>\n",
    "</div>\n",
    "<!-- avaliação do classificador -->\n",
    "<center>\n",
    "  <h2 style=\"color:#126D99\"> Avaliação do Classificador </h2>\n",
    "</center>\n",
    "<div style=\"text-align: justify;text-justify: inter-word;\">\n",
    "  <h5 style=\"color:#126D99\">\n",
    "    <b>Classificação Binária - Métricas de Desempenho</b>\n",
    "  </h5> Na classificação binária, que está englobada num dos objetivos deste trabalho, tem-se como objetivo prever se algo pertence à classe <b>positiva</b> ou à classe <b>negativa</b>. Para avaliar o desempenho de um classificador binário, é necessário utilizar <b>métricas de desempenho</b>. No nosso caso, pretende-se saber se o crítico considera a cerveja muito boa ou muito má, tendo por base o que escreveu. Considerando que uma cerveja é considerada muito boa com uma pontuação global equivalente a <b>nove</b> ou mais valores e que uma cervejaée considerada muito má com uma pontuação de <b>dois</b> ou mais valores. As métricas de desempenho para classificação binária podem ser divididas em duas categorias: <ul>\n",
    "    <li>\n",
    "      <b>Métricas baseadas na matriz de confusão</b> São calculadas a partir dos valores da matriz de confusão, que é uma tabela ( <i>Figura 2</i>) que mostra o número de observações corretamente classificadas e incorretamente classificadas para cada classe. <ul>\n",
    "        <li>\n",
    "          <b>\n",
    "            <i>Recall/Sensivity</i>\n",
    "          </b> Porção dos classificados como positivos bem classificados.\n",
    "        </li>\n",
    "        <li>\n",
    "          <b>False Positive Rate</b> Porção dos classificados como positivos mal classificados.\n",
    "        </li>\n",
    "        <li>\n",
    "          <b>\n",
    "            <i>False Alarm/Fall-out</i>\n",
    "          </b> Porção dos classificados como negativos mal classificados.\n",
    "        </li>\n",
    "        <li>\n",
    "          <b>\n",
    "            <i>Specificity</i>\n",
    "          </b> Porção dos classificados como negativos bem classificados.\n",
    "        </li>\n",
    "      </ul>\n",
    "      <center>\n",
    "        <figure>\n",
    "          <img src=\"imagens/matriz_confusao.drawio.png\" width=\"40%\">\n",
    "          <figcaption>Figura 2 - Matriz de confusão</figcaption>\n",
    "        </figure>\n",
    "      </center>\n",
    "    </li>\n",
    "    <li>\n",
    "      <b>Métricas baseadas na curva <i>ROC</i>\n",
    "      </b> São calculadas a partir da curva <i>ROC</i>, que é um gráfico ( <b>Figura 3</b>) que mostra a taxa de verdadeiros positivos ( <b>\n",
    "        <i>TPR (true positive rate)</i>\n",
    "      </b>) em função da taxa de falsos positivos ( <b>\n",
    "        <i>FPR (false positive rate)</i>\n",
    "      </b>). <center>\n",
    "        <figure>\n",
    "          <img src=\"imagens/curvas_de_roc.drawio.png\" width=\"40%\">\n",
    "          <figcaption>Figura 3 - Curva de ROC</figcaption>\n",
    "        </figure>\n",
    "      </center>\n",
    "    </li>\n",
    "  </ul>\n",
    "  <h3 style=\"color:#126D99\">Qual das métricas de desempenho deve ser escolhida?</h3> Uma pergunta bastante pertinente é como é que é efetuada a escolha das métricas de desempenho. Pois...depende do <b>contexto</b> da aplicação, mas por regra as métricas baseadas nas matrizes de confusão são mais fáceis de interpretar, enquanto as de <i>ROC</i> são mais sensíveis às diferenças entre os classificadores. Serve de exemplo um caso <b>médico</b> onde é importante minimizar o risco de <b>falsos negativos</b> (que podem levar a diagnósticos errados). Neste caso, a métrica de desempenho mais adequada seria o <b>recall</b>, no entanto se fosse um caso de <b>\n",
    "    <i>marketing</i>\n",
    "  </b> (onde é importante minimizar o risco de falsos positivos) a métrica mais adequada seria a <i>\n",
    "    <b>precision</b>\n",
    "  </i> (porção dos classificados como positivos bem classificados). Feita esta pequena introdução, vamos passar para a realização e implementação dos objetivos propostos pelo docente.\n",
    "</div>\n",
    "<h2 style=\"background:#212121;color:red\"> acabei por não meter aqui sobre a multi classe, não é preciso nem faz sentido e os stores não têm nos slides</h2>"
   ]
  },
  {
   "cell_type": "code",
   "execution_count": 2,
   "id": "e8ab9e3a905a52b9",
   "metadata": {
    "ExecuteTime": {
     "end_time": "2024-01-15T22:43:00.407091800Z",
     "start_time": "2024-01-15T22:43:00.392132300Z"
    },
    "collapsed": false,
    "jupyter": {
     "outputs_hidden": false
    },
    "tags": []
   },
   "outputs": [
    {
     "name": "stderr",
     "output_type": "stream",
     "text": [
      "[nltk_data] Downloading package words to /root/nltk_data...\n",
      "[nltk_data]   Unzipping corpora/words.zip.\n"
     ]
    },
    {
     "data": {
      "text/plain": [
       "True"
      ]
     },
     "execution_count": 2,
     "metadata": {},
     "output_type": "execute_result"
    }
   ],
   "source": [
    "import pickle\n",
    "import re\n",
    "\n",
    "import numpy as np\n",
    "import pandas as pd\n",
    "import matplotlib.pyplot as plt\n",
    "\n",
    "import nltk\n",
    "from nltk.corpus import words as nltk_words\n",
    "from nltk.stem import LancasterStemmer, PorterStemmer, SnowballStemmer\n",
    "\n",
    "from sklearn.feature_extraction.text import TfidfVectorizer, TfidfVectorizer as tfidfVectorizer\n",
    "from sklearn.linear_model import LogisticRegression\n",
    "from sklearn.metrics import confusion_matrix, ConfusionMatrixDisplay, precision_recall_curve, roc_curve\n",
    "from sklearn.model_selection import cross_val_score, train_test_split\n",
    "from sklearn.preprocessing import StandardScaler\n",
    "from sklearn.model_selection import GridSearchCV\n",
    "from sklearn.neighbors import KNeighborsClassifier\n",
    "from sklearn.svm import SVC\n",
    "from sklearn.experimental import enable_halving_search_cv  # noqa\n",
    "from sklearn.model_selection import HalvingGridSearchCV\n",
    "\n",
    "#ainda não utilizados mas podemos utilizar\n",
    "import scipy\n",
    "import cv2\n",
    "import itertools\n",
    "import time\n",
    "\n",
    "# transferir 'words' da biblioteca nltk\n",
    "nltk.download('words')"
   ]
  },
  {
   "cell_type": "markdown",
   "id": "c112fd909814fda7",
   "metadata": {},
   "source": [
    "<div style=\"text-align: justify;text-justify: inter-word;\">\n",
    "  <h5 style=\"color:#126D99\">\n",
    "    <b>Dados? Qualidade, formatos, e muito mais!</b>\n",
    "  </h5> No contexto da <i>AA</i>, os dados são um componente essencial. O sucesso de qualquer projeto de <i>AA</i> está intimamente ligado à qualidade dos dados utilizados, se os dados não forem bons os resultados seguirão o mesmo sentido. Antes de começarmos o processo de classificação é importante que os dados sejam concisos uma vez que, também, terão impacto no poder computacional necessário. Ademais, optámos por armazenar todos os tipos de dados (com auxílio da biblioteca <i>python <b>panda</b>\n",
    "  </i>) em ficheiros <i>pickle</i> (formato da extensão - <b>.p</b>), evitando assim uso excessivo da memória. Os modelos de <i>AA</i> requerem uma grande quantidade de dados para serem treinados eficazmente. No entanto, é importante notar que a boa qualidade dos dados é mais crítica do que simplesmente ter enormes quantidades de dados quando se trata de alcançar o resultado pretendido. Por conseguinte, melhorar a qualidade dos seus dados deve ser uma prioridade máxima. Optámos por criar um função ( <i>parseDataFrame</i>) que lê os dados de um ficheiro <i>pickle</i>, transformando-os de meros objetos para o formato <i>DataFrame</i> (que permite uma melhor manipulação de dados), e que, logo de seguida, guarda-os em formato <i>pickle</i>. No decorrer deste processo, são também transformados os valores das colunas <i>\n",
    "    <b>feel</b>, <b>look</b>, <b>smell</b>, <b>taste</b>\n",
    "  </i>\n",
    "  <i>e <b>overall</b>\n",
    "  </i> de <i>string</i> para <i>integer</i>. <center>\n",
    "    <figure>\n",
    "      <img src=\"imagens/parsedata.drawio.png\" width=\"35%\">\n",
    "      <figcaption>Figura 4 - Formatar tipos de dados</figcaption>\n",
    "    </figure>\n",
    "  </center>\n",
    "</div>"
   ]
  },
  {
   "cell_type": "code",
   "execution_count": 6,
   "id": "d07eaa0b8c20e0e2",
   "metadata": {
    "ExecuteTime": {
     "end_time": "2024-01-15T22:43:05.321696800Z",
     "start_time": "2024-01-15T22:43:05.306880800Z"
    },
    "collapsed": false,
    "jupyter": {
     "outputs_hidden": false
    }
   },
   "outputs": [],
   "source": [
    "def parseDataFrame(data, columns_to_parse, columns_to_drop=None):\n",
    "    \"\"\"\n",
    "    Parse data from pickle file to DataFrame and drop rows with NaN values, also parse received columns to int and drop specified columns.\n",
    "    @param data: data to parse\n",
    "    @param columns_to_parse: columns to parse\n",
    "    @param columns_to_drop: columns to drop\n",
    "    @return: void\n",
    "    \"\"\"\n",
    "    # read data from pickle file and pass to DataFrame\n",
    "    data_filtered = pd.DataFrame(pd.read_pickle(data + '.p'))\n",
    "    \n",
    "    print('parsing...')\n",
    "    \n",
    "    # parse received columns to int\n",
    "    for index in data_filtered:\n",
    "        # remove '/' and parse to int\n",
    "        for column in columns_to_parse:\n",
    "            data_filtered[index][column] = int(data_filtered[index][column].split('/')[0])\n",
    "        # drop received columns\n",
    "        if columns_to_drop:\n",
    "            for column in columns_to_drop:\n",
    "                data_filtered[index][column] = None\n",
    "    \n",
    "    # drop rows with NaN values\n",
    "    data_filtered = data_filtered.dropna()\n",
    "    \n",
    "    print('parsing completed!')\n",
    "\n",
    "    with open(data + '_parsed.p', 'wb') as file:\n",
    "        pickle.dump(data_filtered, file)\n",
    "        \n",
    "    print('parsed file dumped (file', data + '_parsed.p)')"
   ]
  },
  {
   "cell_type": "code",
   "execution_count": null,
   "id": "2936324f79ea2d1a",
   "metadata": {
    "collapsed": false,
    "jupyter": {
     "outputs_hidden": false
    }
   },
   "outputs": [],
   "source": [
    "# parse data\n",
    "parseDataFrame('rateBeer75Ktrain', ['feel', 'look', 'smell', 'taste', 'overall'], ['name', 'who'])\n",
    "parseDataFrame('rateBeer25Ktest', ['feel', 'look', 'smell', 'taste', 'overall'], ['name', 'who'])"
   ]
  },
  {
   "cell_type": "raw",
   "id": "f87e3e2e66f665c5",
   "metadata": {},
   "source": [
    "parsing...\n",
    "parsing completed!\n",
    "parsed file dumped (file rateBeer75Ktrain_parsed.p)\n",
    "parsing...\n",
    "parsing completed!\n",
    "parsed file dumped (file rateBeer25Ktest_parsed.p)"
   ]
  },
  {
   "cell_type": "code",
   "execution_count": null,
   "id": "fd7e4d275529336b",
   "metadata": {
    "collapsed": false,
    "jupyter": {
     "outputs_hidden": false
    }
   },
   "outputs": [],
   "source": [
    "original_beerDic = pd.DataFrame(pd.read_pickle('rateBeer75Ktrain.p'))\n",
    "beerDic = pd.read_pickle('rateBeer75Ktrain_parsed.p')\n",
    "\n",
    "# compare sizes, shape and columns\n",
    "print('original size:', original_beerDic.size, 'elements')\n",
    "print('new size:', beerDic.size, 'elements')\n",
    "\n",
    "print('\\noriginal shape:', original_beerDic.shape)\n",
    "print('new shape:', beerDic.shape)\n",
    "\n",
    "print('\\noriginal columns', original_beerDic['000000'].keys())\n",
    "print('new columns:', beerDic['000000'].keys())"
   ]
  },
  {
   "cell_type": "raw",
   "id": "98dbfa2a8ea7db4a",
   "metadata": {},
   "source": [
    "original size: 675000 elements\n",
    "new size: 525000 elements\n",
    "\n",
    "original shape: (9, 75000)\n",
    "new shape: (7, 75000)\n",
    "\n",
    "original columns Index(['name', 'style', 'who', 'feel', 'look', 'smell', 'taste', 'overall',\n",
    "       'review'],\n",
    "      dtype='object')\n",
    "new columns: Index(['style', 'feel', 'look', 'smell', 'taste', 'overall', 'review'], dtype='object')"
   ]
  },
  {
   "cell_type": "code",
   "execution_count": null,
   "id": "12f24eeb40b81e8f",
   "metadata": {
    "collapsed": false,
    "jupyter": {
     "outputs_hidden": false
    }
   },
   "outputs": [],
   "source": [
    "print(beerDic.info())\n",
    "print(beerDic.keys())"
   ]
  },
  {
   "cell_type": "raw",
   "id": "ba5fd4e8244aa679",
   "metadata": {},
   "source": [
    "<class 'pandas.core.frame.DataFrame'>\n",
    "Index: 7 entries, style to review\n",
    "Columns: 75000 entries, 000000 to 074999\n",
    "dtypes: object(75000)\n",
    "memory usage: 4.0+ MB\n",
    "None\n",
    "Index(['000000', '000001', '000002', '000003', '000004', '000005', '000006',\n",
    "       '000007', '000008', '000009',\n",
    "       ...\n",
    "       '074990', '074991', '074992', '074993', '074994', '074995', '074996',\n",
    "       '074997', '074998', '074999'],\n",
    "      dtype='object', length=75000)"
   ]
  },
  {
   "cell_type": "markdown",
   "id": "797a895e0482a73d",
   "metadata": {},
   "source": [
    "<h2 style=\"background:#212121;color:yellow\">====== rafa texto a explicar os dados que temos ======</h2>"
   ]
  },
  {
   "cell_type": "code",
   "execution_count": null,
   "id": "83ea3ec5159be3a7",
   "metadata": {
    "collapsed": false,
    "jupyter": {
     "outputs_hidden": false
    }
   },
   "outputs": [],
   "source": [
    "dist_tipo = beerDic.apply(lambda col: col.style).explode().value_counts()\n",
    "\n",
    "threshold = 0.01\n",
    "tipos_abaixo = dist_tipo[dist_tipo / dist_tipo.sum() < threshold].index\n",
    "dist_tipo['Other < 1%'] = dist_tipo[tipos_abaixo].sum()\n",
    "dist_tipo = dist_tipo[dist_tipo / dist_tipo.sum() >= threshold]\n",
    "\n",
    "fig, axs = plt.subplots(2, 3, figsize=(15, 10))\n",
    "\n",
    "# plot 1: distribution of beers' types (Pie Chart)\n",
    "axs[0, 0].pie(dist_tipo, autopct='%1.1f%%', startangle=90)\n",
    "axs[0, 0].set_title('distribution of beer types')\n",
    "axs[0, 0].set_ylabel('')\n",
    "\n",
    "# plot 2: distribution of feel ratings (Bar Chart)\n",
    "beerDic.apply(lambda col: col.feel).explode().value_counts().sort_index().plot(kind='bar', color='skyblue', ax=axs[0, 1])\n",
    "axs[0, 1].set_title('distribution of feel ratings')\n",
    "axs[0, 1].set_xlabel('feel ratings')\n",
    "axs[0, 1].set_ylabel('')\n",
    "\n",
    "# plot 3: distribution of overall ratings (Bar Chart)\n",
    "beerDic.apply(lambda col: col.overall).explode().value_counts().sort_index().plot(kind='bar', color='orange', ax=axs[0, 2])\n",
    "axs[0, 2].set_title('distribution of overall ratings')\n",
    "axs[0, 2].set_xlabel('overall ratings')\n",
    "axs[0, 2].set_ylabel('')\n",
    "\n",
    "# plot 4: distribution of look ratings (Bar Chart)\n",
    "beerDic.apply(lambda col: col.look).explode().value_counts().sort_index().plot(kind='bar', color='green', ax=axs[1, 0])\n",
    "axs[1, 0].set_title('distribution of look ratings')\n",
    "axs[1, 0].set_xlabel('look ratings')\n",
    "axs[1, 0].set_ylabel('')\n",
    "\n",
    "# plot 5: distribution of smell ratings (Bar Chart)\n",
    "beerDic.apply(lambda col: col.smell).explode().value_counts().sort_index().plot(kind='bar', color='red', ax=axs[1, 1])\n",
    "axs[1, 1].set_title('distribution of smell ratings')\n",
    "axs[1, 1].set_xlabel('smell ratings')\n",
    "axs[1, 1].set_ylabel('')\n",
    "\n",
    "# plot 6: distribution of taste ratings (Bar Chart)\n",
    "beerDic.apply(lambda col: col.taste).explode().value_counts().sort_index().plot(kind='bar', color='purple', ax=axs[1, 2])\n",
    "axs[1, 2].set_title('distribution of taste ratings')\n",
    "axs[1, 2].set_xlabel('taste ratings')\n",
    "axs[1, 2].set_ylabel('')\n",
    "\n",
    "plt.tight_layout()\n",
    "plt.show()"
   ]
  },
  {
   "cell_type": "code",
   "execution_count": null,
   "id": "c078154a07fb95b1",
   "metadata": {
    "collapsed": false,
    "jupyter": {
     "outputs_hidden": false
    }
   },
   "outputs": [],
   "source": [
    "text_train = beerDic['000000'].review.lower().replace('<br />', ' ')\n",
    "tfidf = tfidfVectorizer().fit([text_train])\n",
    "words = tfidf.get_feature_names_out()\n",
    "\n",
    "print(f'len words: {len(words)}')\n",
    "print(f'words: {words}')\n",
    "print(f'\\nlen text_train: {len(text_train)}')\n",
    "print(f'text_train: {text_train}')"
   ]
  },
  {
   "cell_type": "raw",
   "id": "1c32dd71abe39b24",
   "metadata": {},
   "source": [
    "len words: 39\n",
    "words: ['22oz' 'alcohol' 'and' 'banana' 'brown' 'but' 'dark' 'depending' 'fairly'\n",
    " 'finish' 'flavor' 'head' 'inspiring' 'is' 'less' 'malt' 'mostly' 'nose'\n",
    " 'noticeable' 'off' 'on' 'pours' 'raisin' 'red' 'rim' 'slight' 'some'\n",
    " 'spice' 'style' 'sweet' 'temperature' 'than' 'the' 'to' 'true' 'very'\n",
    " 'white' 'with' 'yeast']\n",
    "\n",
    "len text_train: 285\n",
    "text_train: 22oz.  pours dark brown with a red rim and off-white head.  nose is mostly sweet malt with fairly noticeable alcohol depending on the temperature.  flavor is sweet malt with raisin and banana yeast with some slight spice on the finish.  very true to the style, but less than inspiring."
   ]
  },
  {
   "cell_type": "markdown",
   "id": "df344e896521a5e3",
   "metadata": {},
   "source": [
    "<center>\n",
    "  <h2 style=\"color:#126D99\">Stemming</h2>\n",
    "</center>\n",
    "\n",
    "<div style=\"text-align: justify;text-justify: inter-word;\">\n",
    "Um stemmer é uma ferramenta utilizada no processamento de linguagem natural (NLP) e na recuperação de informação para simplificar palavras. O processo de stemming envolve a remoção de sufixos e prefixos das palavras, preservando apenas o núcleo significativo. O <b>objetivo</b> é agrupar palavras relacionadas, mesmo que estejam em formas gramaticais diferentes, para facilitar a análise e a compreensão do texto.\n",
    "</div>\n",
    "<br>\n",
    "<div style=\"text-align: justify;text-justify: inter-word;\">\n",
    "Por exemplo, as palavras <b><i>organização</i></b>, <b><i>organizações</i></b> e <b><i>organizacional</i></b> podem ser reduzidas ao núcleo <b><i>organiz</i></b>, ou as palavras <b><i>corrida</i></b>, <b><i>correu</i></b> e <b><i>correndo</i></b>, seriam reduzidas à sua forma radical, <b><i>corr</i></b>. Isto significa que, independentemente das variações gramaticais, o stemmer extrai a base principal das palavras, o que facilita a análise do significado delas. Neste caso, como as nossas criticas estão em inglês, podemos dar o exemplo de <b><i>running</i></b>, <b><i>ran</i></b>, and <b><i>runner</i></b>, o stemmer iria reduzir as palavras para <b><i>run</i></b>.\n",
    "</div>\n",
    "\n",
    "<h3 style=\"color:#126D99\">Que importância tem e para que serve?</h3>\n",
    "<div style=\"text-align: justify;text-justify: inter-word;\">\n",
    "O objetivo principal de um stemmer é normalizar as palavras, reduzindo-as às suas formas básicas. Isto é fundamental em várias situações, como o processamento de texto, a classificação de documentos e a pesquisa de informações. Ao aplicar um stemmer, as variações de uma palavra podem ser agrupadas, tornando a análise mais eficiente e precisa. \n",
    "</div>\n",
    "\n",
    "<h3 style=\"color:#126D99\">Que utilidade tem para críticas de cerveja?</h3>\n",
    "<div style=\"text-align: justify;text-justify: inter-word;\">\n",
    "Ao agrupar palavras relacionadas através do stemming, é possível identificar melhor os principais aspectos das críticas, como o aroma, o sabor e a impressão geral. Isto facilita a análise e a classificação das opiniões dos críticos.\n",
    "</div>\n",
    "<br>\n",
    "<div style=\"text-align: justify;text-justify: inter-word;\">\n",
    "Na tarefa de classificação binária, em que é determinado se uma cerveja é considerada muito boa ou muito má com base nas pontuações globais, a extração de stemming garante que as palavras usadas para descrever as cervejas sejam tratadas uniformemente, melhorando a consistência da classificação.\n",
    "</div>\n",
    "<br>\n",
    "<div style=\"text-align: justify;text-justify: inter-word;\">\n",
    "No caso da classificação multiclasse, ao prever as pontuações para diferentes aspectos das avaliações, ação ajuda a lidar com as variações linguísticas nos termos utilizados para descrever o aroma, o sabor e a impressão global. Este facto contribui para uma melhor classificação.\n",
    "</div>\n",
    "\n",
    "<h3 style=\"color:#126D99\">Tipos de Stemming</h3>\n",
    "<div style=\"text-align: justify;text-justify: inter-word;\">\n",
    "<ul>\n",
    "<li><b>Snowball</b> O Snowball Stemmer é um algoritmo de stemming desenvolvido por Martin Porter. O principal objetivo deste é reduzir as palavras ao seu radical ou raiz, removendo os sufixos. Isto é útil no processamento de linguagem natural (PNL) e na recuperação de informação, onde a forma básica de uma palavra pode ser mais relevante do que as suas variações.</li>\n",
    "    <li><b>Lancaster</b> O Lancaster Stemmer é um algoritmo de stemming desenvolvido por Chris D. Paice, que é mais agressivo do que o Snowball Stemmer mas mais rápido. O problema é que pode produzir resultados que não são palavras reais pois remove os sufixos de forma agressiva. </li>\n",
    "    <li><b>Porter</b> O Porter Stemmer é um dos algoritmos de stemming mais antigos e mais utilizados. Foi proposto por Martin Porter na década de 1980. É mais lento do que o Snowball Stemmer, mas produz resultados mais precisos. É semelhante aos outros stemmers mencionados. O seu objetivo é cortar os sufixos das palavras para as reduzir à sua forma de raiz.</li>\n",
    "</ul>\n",
    "</div>"
   ]
  },
  {
   "cell_type": "code",
   "execution_count": 10,
   "id": "f1fea9e1aaafa3dd",
   "metadata": {
    "ExecuteTime": {
     "end_time": "2024-01-15T22:45:04.138038300Z",
     "start_time": "2024-01-15T22:45:04.072110700Z"
    },
    "collapsed": false,
    "jupyter": {
     "outputs_hidden": false
    }
   },
   "outputs": [],
   "source": [
    "def snowball_stemmer(doc):\n",
    "    \"\"\"\n",
    "    Stem document using SnowballStemmer\n",
    "    @param doc: document to stem\n",
    "    @return: stemmed document\n",
    "    \"\"\"\n",
    "    stemFunc = SnowballStemmer(language='english')\n",
    "    doc = [stemFunc.stem(w) for w in doc.split()]\n",
    "    return ' '.join(doc)\n",
    "\n",
    "snowball_stemmer_ = snowball_stemmer(text_train)\n",
    "\n",
    "def lancaster_stemmer(doc):\n",
    "    \"\"\"\n",
    "    Stem document using LancasterStemmer\n",
    "    @param doc: document to stem\n",
    "    @return: stemmed document\n",
    "    \"\"\"\n",
    "    stemFunc = LancasterStemmer()\n",
    "    doc = [stemFunc.stem(w) for w in doc.split()]\n",
    "    return ' '.join(doc)\n",
    "\n",
    "lancaster_stemmer_ = lancaster_stemmer(text_train)\n",
    "\n",
    "def porter_stemmer(doc):\n",
    "    \"\"\"\n",
    "    Stem document using PorterStemmer\n",
    "    @param doc: document to stem\n",
    "    @return: stemmed document\n",
    "    \"\"\"\n",
    "    stemFunc = PorterStemmer()\n",
    "    doc = [stemFunc.stem(w) for w in doc.split()]\n",
    "    return ' '.join(doc)\n",
    "\n",
    "porter_stemmer_ = porter_stemmer(text_train)\n",
    "\n",
    "print(f'Original Review Length: {len(text_train)}')\n",
    "print(f'Original Review: {text_train}')\n",
    "\n",
    "print(f'\\nSnowball Stemmer Review Length: {len(snowball_stemmer_)}')\n",
    "print(f'Snowball Stemmer Review: {snowball_stemmer_}')\n",
    "\n",
    "print(f'\\nLancaster Stemmer Review Length: {len(lancaster_stemmer_)}')\n",
    "print(f'Lancaster Stemmer Review: {lancaster_stemmer_}')\n",
    "\n",
    "print(f'\\nPorter Stemmer Review Length: {len(porter_stemmer_)}')\n",
    "print(f'Porter Stemmer Review: {porter_stemmer_}')"
   ]
  },
  {
   "cell_type": "markdown",
   "id": "9476f61802815b25",
   "metadata": {},
   "source": [
    "<h2 style=\"background:#212121;color:yellow\">meter aqui o output de cima em célula tipo RAW</h2>"
   ]
  },
  {
   "cell_type": "markdown",
   "id": "72e032dd7900fbe1",
   "metadata": {},
   "source": [
    "<h2 style=\"color:#126D99\">E agora...Qual stemmer escolher?</h2>\n",
    "<div style=\"text-align: justify;text-justify: inter-word;\"> A escolha do stemmer depende do contexto da aplicação. Neste caso, foi escolhido o Snowball Stemmer. Este, destaca-se pela sua grande variedade de línguas, sendo concebido para várias línguas, incluindo o inglês, que é o que estamos a utilizar neste trabalho. Além disso, a abordagem pouco agressiva à redução de palavras pode ser benéfica para preservar o significado das palavras.\n",
    "</div>\n",
    "<br>\n",
    "<div style=\"text-align: justify;text-justify: inter-word;\">\n",
    "Este stemmer também é adequado para textos mais longos, uma vez que atua ao nível da palavra, permitindo uma análise mais detalhada. A capacidade de preservar algum contexto ao efetuar a redução de palavras é outra caraterística relevante, especialmente quando se tenta compreender como determinadas palavras contribuem para a avaliação global de uma cerveja. \n",
    "</div>\n",
    "<br>\n",
    "<div style=\"text-align: justify;text-justify: inter-word;\">\n",
    "É de salientar que a escolha do stemmer envolve geralmente uma dose de experiências e de preferência pessoal. Foram efectuados vários testes e, efetivamente, o que melhor se adequou ao nosso trabalho foi este.\n",
    "</div> \n",
    "<br>\n",
    "<div style=\"text-align: justify;text-justify: inter-word;\">\n",
    "Vamos pegar no tópico de <i>Natural Language Processing (NLP)</i>, referido anteriormente, como <i>sentiment analysis</i>. Como o nome indica é a análise de sentimentos, mais concretamente (para este trabalho laboratorial) críticas relativas a cervejas. O objetivo é determinar se uma crítica é muito negativa ou muito positiva e para tal o texto deve ser gramaticalmente correto e isento de erros ortográficos e de pontuação, deve ser dada prioridade a palavras que ocorrem com maior frequência tentando ao mesmo tempo manter o texto o menos alterado possível, deve-se evitar, a todo o custo, a adição de outros aspetos.\n",
    "</div>\n",
    "<br>\n",
    "<div style=\"text-align: justify;text-justify: inter-word;\">\n",
    "Para manter a objetividade, é importante evitar avaliações subjectivas, a não ser que estejam claramente assinaladas como tal. \n",
    "</div>\n",
    "<br>\n",
    "<div style=\"text-align: justify;text-justify: inter-word;\">\n",
    "Vejamos o seguinte exemplo: <ul>\n",
    "    <li>\n",
    "      <b>Crítica Positiva</b> \"Belgian Strong Ale is a nice beer\"\n",
    "    </li>\n",
    "    <li>\n",
    "      <b>Crítica Negativa</b> \"Belgian Strong Ale is not a nice beer\"\n",
    "    </li>\n",
    "    <li>\n",
    "      <b>Crítica Neutra</b> \"Belgian Strong Ale is a beer\"\n",
    "    </li>\n",
    "  </ul>\n",
    "  As frases correspondem a críticas (fictícias) da cerveja <i>Belgian Strong Ale</i> e expressam todas opiniões diferentes, no entanto para uma máquina ser capaz de perceber isto requer algum tipo de treino.\n",
    "  </div>\n",
    "  <br>\n",
    "  <div style=\"text-align: justify;text-justify: inter-word;\">\n",
    "  De um ponto de vista da <i>AA</i> se for fornecida a saída desejada, esta tarefa não é mais do que uma <b>aprendizagem supervisionada</b>. Um dos objetivos deste trabalho é fornecer um conjunto de frases (contidas no ficheiro <b>\n",
    "    <i>rateBeer75Ktrain.p</i>\n",
    "  </b>), treinar a máquina através do parâmetro <i>overall</i> fornecido e por fim testar o modelo em críticas não etiquetadas (contidas no ficheiro <b>\n",
    "    <i>rateBeer25Ktest.p</i>\n",
    "  </b>).\n",
    "  </div>\n",
    "  <br>\n",
    "  <div style=\"text-align: justify;text-justify: inter-word;\">\n",
    "  <h5 style=\"color:#126D99\">\n",
    "    <b>Exemplo da review '000005'</b>\n",
    "  </h5>\n",
    "  <i>\"If I would have entered this at the time of tasting it would have been top ten for me. Since then I noticed some minor things that brought my score <b>down</b>. This beer is rich and thick and the lacing is <b>awesome</b>. Aroma is very strong, alcohol, wood, honey, caramel. Flavor is <b>amazing</b>. <b>Sweet</b>, honey, bourbon, vanilla some dark fruit. Very complex and <b>delicious</b>. Was slightly sticky <b>sweet</b> and a little over the top. At time: 4.3 New rating: 4.1 Still <b>great</b>. </i>\n",
    "  </div>\n",
    "  <br>\n",
    "  <div style=\"text-align: justify;text-justify: inter-word;\">\n",
    "  Imaginando que as palavras a <b>bold</b> são as mais importantes, qual será o papel destas? O que fazer com elas? É aqui que entra a análise das palavras ao promenor:\n",
    "  </div>\n",
    "  <br>\n",
    "  <div style=\"text-align: justify;text-justify: inter-word;\">\n",
    "  <h5 style=\"color:#126D99\">\n",
    "    <b>Bag Of Words</b>\n",
    "  </h5> Uma das formas de representar texto é por meio do modelo <i>Bag-of-Words (BoW)</i> (saco de palavras). Neste modelo, a estrutura do texto, como a ordem das palavras, é descartada, e apenas é considerado o número de ocorrências de cada palavra em cada documento.\n",
    "  </div>\n",
    "  <br>\n",
    "  <div style=\"text-align: justify;text-justify: inter-word;\">\n",
    "  O resultado final é uma matriz denominada <i>document-term matrix</i>, com dimensões <b>Nxd</b>, onde <b>N</b> é o número de documentos no <i>corpus</i> e <b>d</b> é o número de palavras do vocabulário.\n",
    "  </div>\n",
    "  <br>\n",
    "  <div style=\"text-align: justify;text-justify: inter-word;\">\n",
    "  O modelo <i>BoW</i> é uma técnica de representação de texto não supervisionada, pois não requer que o texto seja rotulado com classes. <h2 style=\"background:#212121;color:yellow\"> precisavamos do código abaixo comentado! </h2>\n",
    "  <h2 style=\"background:#212121;color:yellow\">====== tenho mais texto no word falta por aqui e imagens ======</h2>\n",
    "</div>"
   ]
  },
  {
   "cell_type": "code",
   "execution_count": 11,
   "id": "d8b3178e59ad875f",
   "metadata": {
    "ExecuteTime": {
     "end_time": "2024-01-15T22:46:04.935740500Z",
     "start_time": "2024-01-15T22:45:10.979965500Z"
    },
    "collapsed": false,
    "jupyter": {
     "outputs_hidden": false
    }
   },
   "outputs": [
    {
     "name": "stdout",
     "output_type": "stream",
     "text": [
      "Número total de palavras no vocabulário: 31184\n"
     ]
    }
   ],
   "source": [
    "beerDic = pd.read_pickle('rateBeer75Ktrain_parsed.p')\n",
    "\n",
    "english_words = set(nltk_words.words())\n",
    "all_keys = list(beerDic.keys())\n",
    "\n",
    "token_pattern = r'\\b\\w\\w\\w\\w+\\b'\n",
    "\n",
    "all_words = []\n",
    "\n",
    "corpus = [beerDic[key].review.replace('<br />', ' ') for key in all_keys]\n",
    "corpus = [\n",
    "    ' '.join([word for word in re.findall(r'\\b\\w+\\b', review.lower()) if word in english_words])\n",
    "    for review in corpus\n",
    "]\n",
    "\n",
    "#min_df = 5 significa que a palavra tem de aparecer em pelo menos em 10 criticas\n",
    "#max_df = 0.5 significa que se aparecer em 50 porcento das criticas é ignorado/removido\n",
    "tfidf = TfidfVectorizer(token_pattern=token_pattern, lowercase=True, stop_words='english', ngram_range=(1,2), min_df=0.00015)\n",
    "corpus_stemmed = [snowball_stemmer(review) for review in corpus]\n",
    "\n",
    "tfidf.fit_transform(corpus_stemmed)\n",
    "\n",
    "feature_names = tfidf.get_feature_names_out()\n",
    "\n",
    "filtered_words = [word for word in feature_names if len(word) > 2]\n",
    "\n",
    "with open('rateBeer75Ktrain_vocabulary.p', 'wb') as file:\n",
    "    pickle.dump(feature_names, file)\n",
    "\n",
    "print(f'Número total de palavras no vocabulário: {len(feature_names)}')\n",
    "\n",
    "#FAZER TABELA COM NR DE VALORES"
   ]
  },
  {
   "cell_type": "markdown",
   "id": "f51d2164bc4d8899",
   "metadata": {},
   "source": [
    "<h3 style=\"color:#126D99\">Número de palavras no vocabulário</h3>\n",
    "<div style=\"text-align: justify;text-justify: inter-word;\">\n",
    "O número de palavras no vocabulário é um fator importante, pois quanto maior for o número de palavras, maior será o tempo de processamento. Decidir o número de palavras a utilizar pode ser um desafio, após vários testes, decidimos utilizar 0.00015 como <i>min_df</i>, retirar as <i>stop_words</i> e aplicar um stemmer.O número de palacras ficou então 31184 palavras.\n",
    "<br>\n",
    "O resultado desses testes pode ser vizualizado na seguinte tabela:\n",
    "</div>\n",
    "<center>\n",
    "<img src=\"imagens/tabela_stemmers.png\" width=\"50%\"/>\n",
    "</center>\n",
    "\n",
    "<h2 style=\"background:#212121;color:yellow\">pus bem a tabela aqui?</h2>\n"
   ]
  },
  {
   "cell_type": "code",
   "execution_count": null,
   "id": "a12461c0c4f4b1c3",
   "metadata": {
    "collapsed": false,
    "jupyter": {
     "outputs_hidden": false
    }
   },
   "outputs": [],
   "source": [
    "wC = np.array([len(w.split()) for w in feature_names])\n",
    "print('Numero de uni-gramas no vocabulario: ', np.sum(wC == 1))\n",
    "print('Numero de bi-gramas no vocabulario: ', np.sum(wC == 2))"
   ]
  },
  {
   "cell_type": "markdown",
   "id": "23e62386bb2f5a7c",
   "metadata": {},
   "source": [
    "<div style=\"text-align: justify;text-justify: inter-word;\">\n",
    "Ao analisar críticas de cerveja, a identificação das palavras mais e menos importantes pode fornecer informações valiosas sobre os factores que influenciam as percepções dos críticos. Com o uso de técnicas de processamento de linguagem natural, como Term Frequency-Inverse Document Frequency (TF-IDF), podemos destacar as palavras que mais contribuem para a representação do conteúdo textual. O código abaixo extrai as médias dos valores TF-IDF para cada palavra no conjunto de dados, identificando as 20 palavras mais importantes e as 20 menos importantes.\n",
    "</div>\n",
    "\n",
    "<h2 style=\"background:#212121;color:yellow\"> <span color=\"purple\">JOANA</span> meter isto numa tabela (fácil) </h2>"
   ]
  },
  {
   "cell_type": "markdown",
   "id": "22ef8dd5f06df7c0",
   "metadata": {},
   "source": [
    "<h2 style=\"background:#212121;color:yellow\"><span color=\"purple\">JOANA</span> aqui também podiamos fazer uma tabela ou um piechart? eu acho que ficava giro</h2>"
   ]
  },
  {
   "cell_type": "code",
   "execution_count": null,
   "id": "8331b774e9697487",
   "metadata": {
    "collapsed": false,
    "jupyter": {
     "outputs_hidden": false
    }
   },
   "outputs": [],
   "source": [
    "with open('rateBeer75Ktrain_vocabulary.p', 'rb') as file:\n",
    "   feature_names = pickle.load(file)\n",
    "\n",
    "tfidf_matrix = tfidf.transform(corpus)\n",
    "\n",
    "mean_tfidf_values = np.asarray(tfidf_matrix.mean(axis=0)).flatten()\n",
    "\n",
    "mean_tfidf_dict = dict(zip(feature_names, mean_tfidf_values))\n",
    "\n",
    "sorted_mean_tfidf = sorted(mean_tfidf_dict.items(), key=lambda x: x[1], reverse=True)\n",
    "\n",
    "print(\"Top 20 palavras mais importantes:\")\n",
    "for word, mean_tfidf_score in sorted_mean_tfidf[:20]:\n",
    "   print(f\"{word}: {mean_tfidf_score}\")\n",
    "\n",
    "print(\"\\nTop 20 palavras menos importantes:\")\n",
    "for word, mean_tfidf_score in sorted_mean_tfidf[-20:]:\n",
    "   print(f\"{word}: {mean_tfidf_score}\")"
   ]
  },
  {
   "cell_type": "markdown",
   "id": "bdea337e9d437e60",
   "metadata": {},
   "source": [
    "<h2 style=\"color:#126D99\">Classificação Binária</h2>\n",
    "<div style=\"text-align: justify;text-justify: inter-word;\">\n",
    "A classificação binária é um tipo de tarefa de aprendizagem automática em que o objetivo é atribuir instâncias a uma de duas classes distintas. Estas duas classes são normalmente designadas por positivo e negativo, 1 e 0, ou outra designação que represente as categorias em questão.\n",
    "</div>\n",
    "\n",
    "<h2 style=\"background:#212121;color:yellow\">=POR AQUI A IMAGEM binary_example.png=</h2>\n",
    "\n",
    "<div style=\"text-align: justify;text-justify: inter-word;\">\n",
    "Seguem-se alguns conceitos fundamentais relacionados com a classificação binária:\n",
    "\n",
    "<ul>\n",
    "<li><b>Matriz de confusão</b> É uma tabela que compara as previsões de um modelo com os valores reais. É constituída por quatro elementos: verdadeiro positivo (TP), falso positivo (FP), verdadeiro negativo (TN) e falso negativo (FN). </li>\n",
    "<li><b>Precision</b> É a percentagem de casos positivos corretamente identificados em relação ao número total de casos previstos como positivos $\\frac{TP}{TP + FP}$.  Torna-se particularmente importante em cenários em que o custo dos falsos positivos é elevado. Por exemplo, na deteção de spam por email, é importante garantir que um email legítimo não seja assinalado por engano como spam.</li>\n",
    "<li><b>Recall</b> É a percentagem de casos positivos identificados corretamente em relação ao total de casos positivos reais $\\frac{TP}{TP + FN}$. É a métrica de referência quando o custo de falsos negativos é significativo. Em contextos como diagnósticos médicos, é fundamental não perder nenhum caso positivo, mesmo que isso signifique registar alguns falsos positivos. </li>\n",
    "<li><b>F-Score (F-Measure)</b> É a média ponderada da precisão e da recuperação e é útil quando há um desequilíbrio entre as classes. O F-Score é calculado como 2 * ((precisão * recall) / (precisão + recall)). É importante quando se lida com conjuntos de dados desequilibrados, em que uma classe pode ultrapassar significativamente a outra. Quando tanto os falsos positivos como os falsos negativos têm peso e se procura um equilíbrio entre Precision e Recall, o F1-Score serve como uma métrica singular que engloba ambos os aspectos.</li>\n",
    "<li><b>Accuracy</b> É a percentagem de casos corretamente classificados em relação ao número total de casos (TP + TN) / (TP + TN + FP + FN). É uma métrica adequada quando as classes são relativamente equilibradas e os custos associados a falsos positivos e falsos negativos são semelhantes. Fornece uma visão geral do desempenho do modelo, especialmente quando nenhum tipo específico de erro é mais crítico do que outro. </li>\n",
    "<li><b>Curva de precisão</b> É um gráfico que mostra a relação entre a precisão e o recall à medida que o limite de decisão do classificador é variado. A precisão é representada no eixo y e o recall no eixo x.</li>\n",
    "<li><b>Curva ROC</b>A curva ROC (Receiver Operating Characteristic) é uma representação gráfica que ilustra o desempenho de um classificador binário à medida que o seu limiar de discriminação é alterado, ou seja, mostra a relação entre a taxa de verdadeiros positivos (TPR) e a taxa de falsos positivos (FPR) à medida que o limite de decisão do classificador varia.</li>\n",
    "<li><b>AUC (Area Under the Curve)</b> É a área sob a curva ROC que representa o desempenho geral do classificador. Uma AUC de 1,0 indica uma classificação perfeita, enquanto uma AUC de 0,5 sugere que o classificador não é melhor do que a tentativa de adivinhar ao acaso. Uma curva mais acentuada indica um melhor desempenho. Quanto mais afastada a curva estiver da diagonal (line of no-discrimination), melhor será a capacidade do modelo para distinguir entre classes positivas e negativas.</li> \n",
    "<li><b>Cross-validation</b> É uma técnica de avaliação de modelos que consiste em dividir o conjunto de dados em subconjuntos de treino e teste, permitindo que o modelo seja treinado e testado várias vezes. A pontuação de validação cruzada é a média das pontuações de cada execução. Esta pontuação de validação é útil para avaliar o grau de capacidade de generalização do modelo para dados não vistos. \n",
    "</li>\n",
    "</ul>\n",
    "</div>\n",
    "\n",
    "<h2 style=\"background:#212121;color:yellow\">=POR AQUI A IMAGEM curva_roc.png=</h2>\n"
   ]
  },
  {
   "cell_type": "code",
   "execution_count": 7,
   "id": "ed8ae606cfc37ffb",
   "metadata": {
    "ExecuteTime": {
     "end_time": "2024-01-15T22:46:05.030970800Z",
     "start_time": "2024-01-15T22:46:05.029977100Z"
    },
    "collapsed": false,
    "jupyter": {
     "outputs_hidden": false
    },
    "tags": []
   },
   "outputs": [],
   "source": [
    "def calculate_metrics(predictions, yteste):\n",
    "    \"\"\"\n",
    "    Calcula as métricas de desempenho do classificador.\n",
    "    @param predictions: previsões do classificador\n",
    "    @param yteste: valores reais\n",
    "    \"\"\"\n",
    "    CM = confusion_matrix(yteste, predictions)\n",
    "    TP, FN, FP, TN = CM.ravel()\n",
    "    \n",
    "    precision = TP / (TP + FP)\n",
    "    recall = TP / (TP + FN)\n",
    "    false_alarm = FP / (TN + FP)\n",
    "    f_score = 2 * ((precision * recall) / (precision + recall))\n",
    "    accuracy = (TP + TN) / (TP + TN + FP + FN)\n",
    "    min_errors = FN + FP\n",
    "    \n",
    "    return CM, precision, recall, false_alarm, f_score, accuracy, min_errors\n",
    "\n",
    "def print_metrics(CM, precision, recall, false_alarm, f_score, accuracy, min_errors):\n",
    "    \"\"\"\n",
    "    Imprime as métricas de desempenho do classificador.\n",
    "    @param CM: matriz de confusão\n",
    "    @param precision: precision\n",
    "    @param recall: recall\n",
    "    @param false_alarm: false alarm\n",
    "    @param f_score: f-score\n",
    "    @param accuracy: accuracy\n",
    "    @param min_errors: menor número de erros\n",
    "    \"\"\"\n",
    "    print(\"Matriz de confusão:\")\n",
    "    print(CM)\n",
    "    print(\"Precision:\", precision)\n",
    "    print(\"Recall:\", recall)\n",
    "    print(\"False Alarm:\", false_alarm)\n",
    "    print(\"F-Score:\", f_score)\n",
    "    print(\"Accuracy:\", accuracy)\n",
    "    print(\"Menor número de erros:\", min_errors)\n",
    "\n",
    "def plot_precision_recall_curve(yteste, y2d, precision, recall):\n",
    "    \"\"\"\n",
    "    Plota a curva precision/recall.\n",
    "    @param yteste: valores reais\n",
    "    @param y2d: previsões do classificador\n",
    "    @param precision: precision\n",
    "    @param recall: recall\n",
    "    \"\"\"\n",
    "    p, r, _ = precision_recall_curve(yteste, y2d)\n",
    "    plt.plot(p, r)\n",
    "    plt.xlabel('Precision')\n",
    "    plt.ylabel('Recall')\n",
    "    plt.title('Curva Precision/Recall')\n",
    "    plt.plot(precision, recall, 'or')\n",
    "    plt.show()\n",
    "\n",
    "def plot_roc_curve(yteste, y2d, false_alarm, recall):\n",
    "    \"\"\"\n",
    "    Plota a curva ROC.\n",
    "    @param yteste: valores reais\n",
    "    @param y2d: previsões do classificador\n",
    "    @param false_alarm: false alarm\n",
    "    @param recall: recall\n",
    "    \"\"\"\n",
    "    fpr, tpr, _ = roc_curve(yteste, y2d)\n",
    "    plt.plot(fpr, tpr)\n",
    "    plt.xlabel('False Positive Rate')\n",
    "    plt.ylabel('True Positive Rate')\n",
    "    plt.title('Curva ROC')\n",
    "    plt.plot(false_alarm, recall, 'or')\n",
    "    plt.show()\n",
    "\n",
    "def calculate_cross_val_score(logR, X2, yteste):\n",
    "    \"\"\"\n",
    "    Calcula a cross-validation score.\n",
    "    @param logR: classificador\n",
    "    @param X2: dados de teste\n",
    "    @param yteste: valores reais\n",
    "    \"\"\"\n",
    "    cross_val_scores = cross_val_score(logR, X2, yteste, cv=5) \n",
    "    best_cross_val_score = max(cross_val_scores)\n",
    "    print(\"Melhor cross-validation-score:\", best_cross_val_score)\n",
    "\n",
    "def metrics(X2, yteste, logR):\n",
    "    \"\"\"\n",
    "    Calcula e imprime as métricas de desempenho do classificador, calcula a cross-validation score e plota as curvas precision/recall e ROC.\n",
    "    @param X2: dados de teste\n",
    "    @param yteste: valores reais\n",
    "    @param logR: classificador\n",
    "    \"\"\"\n",
    "    predictions = logR.predict(X2)\n",
    "    CM, precision, recall, false_alarm, f_score, accuracy, min_errors = calculate_metrics(predictions, yteste)\n",
    "    print_metrics(CM, precision, recall, false_alarm, f_score, accuracy, min_errors)\n",
    "    calculate_cross_val_score(logR, X2, yteste)\n",
    "    y2d = logR.decision_function(X2)\n",
    "    plot_precision_recall_curve(yteste, y2d, precision, recall)\n",
    "    plot_roc_curve(yteste, y2d, false_alarm, recall)"
   ]
  },
  {
   "cell_type": "markdown",
   "id": "beebaf609d853f23",
   "metadata": {},
   "source": [
    "\n",
    "<h2 style=\"color:#126D99\">E no caso do nosso trabalho, como funciona a classificação binária?</h2>\n",
    "<div style=\"text-align: justify;text-justify: inter-word;\">\n",
    "Neste caso, pretende-se saber se o crítico considera a cerveja muito boa ou muito má, tendo por base o que escreveu. Considerando que uma cerveja é considerada muito boa com uma pontuação global equivalente a nove ou mais valores e que uma cerveja é considerada muito má com uma pontuação de dois ou mais valores. Para este efeito, foi criada uma função que recebe como parâmetro a pontuação global e devolve 1 se for maior ou igual a 9 e 0 caso contrário. \n",
    "</div>\n",
    "<br>\n",
    "<div style=\"text-align: justify;text-justify: inter-word;\">\n",
    "O TF-IDF (Term Frequency-Inverse Document Frequency) é uma técnica de processamento de linguagem natural que permite destacar as palavras que mais contribuem para a representação do conteúdo textual. O TF-IDF é calculado como o produto do TF (Term Frequency) e do IDF (Inverse Document Frequency). O TF é a frequência de uma palavra num documento e o IDF é o inverso da frequência de documentos que contêm a palavra em questão. \n",
    "</div>\n",
    "<br>\n",
    "<div style=\"text-align: justify;text-justify: inter-word;\">\n",
    "A abordagem TF-IDF leva em consideração não apenas a frequência das palavras em um documento (crítica), mas também a importância dessas palavras em relação a todo o corpus (conjunto de críticas, quanto maior for o peso, mais importante é a palavra para o documento. \n",
    "</div>\n",
    "<br>\n",
    "<div style=\"text-align: justify;text-justify: inter-word;\">\n",
    "Dá mais peso a termos que são frequentes em um documento específico, mas raros no conjunto de dados geral. Isso significa que palavras que são distintivas para uma crítica específica terão uma pontuação mais alta, destacando características únicas e relevantes. A utilização do TfidfVectorizer ajuda na redução da dimensionalidade dos dados, uma vez que transforma o texto em uma matriz  onde apenas as palavras relevantes têm valores não nulos. \n",
    "</div>\n",
    "\n",
    "<h2 style=\"color:#126D99\">Divisão dos dados</h2>\n",
    "<div style=\"text-align: justify;text-justify: inter-word;\">\n",
    "Os dados já estavam divididos em dados de treino e dados de teste. O que fizemos foi dividir o treino em dois, treino e validação, e utilizar apenas o teste no fim de tudo. Isto é importante para garantir que os modelos se adaptam bem a dados novos e não vistos. Ao dividir o conjunto de dados em subconjuntos distintos, podemos treinar, afinar e avaliar o desempenho de um modelo de forma eficaz.\n",
    "\n",
    "<ul>\n",
    "<li><b>Conjunto de treino</b> Este é o maior subconjunto, os modelos são treinados com base nestes dados, aprendendo padrões e relações entre características e a variável alvo. </li>\n",
    "<li><b>Conjunto de validação</b> Após a formação inicial, os modelos são aperfeiçoados utilizando o conjunto de validação. Este conjunto ajuda na afinação dos hiperparâmetros e na seleção de modelos, garantindo que o modelo não se ajusta demasiado aos dados de treino.</li>\n",
    "<li><b>Conjunto de teste</b> Depois de o modelo ser treinado e ajustado, é avaliado no conjunto de teste. Esta avaliação fornece uma estimativa imparcial do desempenho do modelo em dados novos e não vistos, reflectindo o seu potencial desempenho no mundo real.</li>\n",
    "</div>"
   ]
  },
  {
   "cell_type": "markdown",
   "id": "25146f5bdd1baf89",
   "metadata": {},
   "source": [
    "<h2 style=\"background:#212121;color:yellow\">plot do bar e ao lato tabela com os valores <span color=\"purple\">JOANA</span></h2>"
   ]
  },
  {
   "cell_type": "code",
   "execution_count": 4,
   "id": "e78bf67fce4c3eca",
   "metadata": {
    "ExecuteTime": {
     "end_time": "2024-01-15T22:46:08.685007400Z",
     "start_time": "2024-01-15T22:46:05.030970800Z"
    },
    "collapsed": false,
    "jupyter": {
     "outputs_hidden": false
    },
    "tags": []
   },
   "outputs": [
    {
     "name": "stdout",
     "output_type": "stream",
     "text": [
      "Número de críticas boas: 5052\n",
      "Número de críticas más: 3346\n"
     ]
    },
    {
     "data": {
      "image/png": "[encoded data removed]",
      "text/plain": [
       "<Figure size 640x480 with 1 Axes>"
      ]
     },
     "metadata": {},
     "output_type": "display_data"
    }
   ],
   "source": [
    "beerDic = pd.read_pickle('rateBeer75Ktrain_parsed.p')\n",
    "vocabulary = pd.read_pickle('rateBeer75Ktrain_vocabulary.p')\n",
    "\n",
    "X_list = []\n",
    "Y_list = []\n",
    "for beer, review in beerDic.items():\n",
    "   overall_rating = float(review.overall)\n",
    "   if overall_rating >= 9 or overall_rating <= 2:\n",
    "       X_list.append(review.review)\n",
    "       Y_list.append(1 if overall_rating >= 9 else 0)\n",
    "\n",
    "X = pd.Series(X_list)\n",
    "y = pd.Series(Y_list)\n",
    "\n",
    "vectorizer = TfidfVectorizer(token_pattern=r'\\b\\w\\w+\\b', vocabulary=vocabulary)\n",
    "X = vectorizer.fit_transform(X.fillna(''))\n",
    "\n",
    "X_train, X_test, y_train, y_test = train_test_split(X, y, test_size=0.2, random_state=42)\n",
    "\n",
    "criticas_boas = sum(1 for y in Y_list if y == 1)\n",
    "criticas_mas = sum(1 for y in Y_list if y == 0)\n",
    "print(f'Número de críticas boas: {criticas_boas}')\n",
    "print(f'Número de críticas más: {criticas_mas}')\n",
    "\n",
    "#plot\n",
    "plt.bar(['Críticas Boas', 'Críticas Más'], [criticas_boas, criticas_mas])\n",
    "plt.title('Distribuição das Críticas')\n",
    "plt.ylabel('Número de Críticas')\n",
    "plt.show()"
   ]
  },
  {
   "cell_type": "markdown",
   "id": "c7b09ad032c17b39",
   "metadata": {},
   "source": [
    "<center>\n",
    "    <h2 style=\"color:#126D99\">Regressão Logística</h2>\n",
    "</center>\n",
    "<div style=\"text-align: justify;text-justify: inter-word;\">\n",
    "A regressão logística é um algoritmo de aprendizagem automática supervisionado, utilizado principalmente para a classificação binária, em que utilizamos uma função logística, também conhecida como função sigmoide, que recebe dados como variáveis independentes e produz uma probabilidade entre 0 e 1.\n",
    "</div>\n",
    "\n",
    "<h2 style=\"background:#212121;color:yellow\">meter aqui a imagem da função sigmoide</h2>\n",
    "\n",
    "<h3 style=\"color:#126D99\">Tipos de Regressão Logística</h3>\n",
    "<div style=\"text-align: justify;text-justify: inter-word;\">\n",
    "<ul>\n",
    "<li><b>Binária</b> Utilizada para prever a probabilidade de um resultado binário, como sim ou não, verdadeiro ou falso, ou 0 ou 1. Por exemplo, pode ser utilizada para prever se um aluno vai chumbar.</li>\n",
    "<li><b>Multinomial</b> Utilizada para prever a probabilidade de um de três ou mais resultados possíveis, como o tipo de produto que um cliente irá comprar, a classificação que um cliente dará a um produto ou o partido político em que irá votar.</li>\n",
    "</ul>\n",
    "</div>\n",
    "\n",
    "<h3 style=\"color:#126D99\">Regressão Logistica e Linear têm nomes muito parecidos, não? As diferenças:</h3>\n",
    "\n",
    "<center>\n",
    "<table style=\"font-family: Arial, Helvetica, sans-serif; border-collapse: collapse; width: 100%;\">\n",
    "<thead>\n",
    "  <tr>\n",
    "    <th style=\"border: 1px solid #ddd; padding: 8px; padding-top: 12px; padding-bottom: 12px; text-align: left; background-color: #126D99; color: white;\">Regressão Linear</th>\n",
    "    <th style=\"border: 1px solid #ddd; padding: 8px; padding-top: 12px; padding-bottom: 12px; text-align: left; background-color: #126D99; color: white;\">Regressão Logistica</th>\n",
    "  </tr>\n",
    "</thead>\n",
    "<tbody>\n",
    "  <tr>\n",
    "    <td style=\"border: 1px solid #ddd; padding: 8px; background-color: #f2f2f2;\">Utilizada para prever a variável dependente contínua utilizando um determinado conjunto de variáveis independentes.</td>\n",
    "    <td style=\"border: 1px solid #ddd; padding: 8px; background-color: #f2f2f2;\">Utilizada para prever a variável dependente categórica utilizando um determinado conjunto de variáveis independentes.</td>\n",
    "  </tr>\n",
    "  <tr>\n",
    "    <td style=\"border: 1px solid #ddd; padding: 8px;\">Utilizada para resolver problemas de regressão.</td>\n",
    "    <td style=\"border: 1px solid #ddd; padding: 8px;\">Utilizada para resolver problemas de classificação.</td>\n",
    "  </tr>\n",
    "  <tr>\n",
    "    <td style=\"border: 1px solid #ddd; padding: 8px; background-color: #f2f2f2;\">Neste caso, prevemos o valor de variáveis contínuas</td>\n",
    "    <td style=\"border: 1px solid #ddd; padding: 8px; background-color: #f2f2f2;\">Neste caso, prevemos valores de variáveis categóricas</td>\n",
    "  </tr>\n",
    "  <tr>\n",
    "    <td style=\"border: 1px solid #ddd; padding: 8px;\">Neste caso, encontramos a linha de melhor ajuste.</td>\n",
    "    <td style=\"border: 1px solid #ddd; padding: 8px;\">Neste caso, encontramos a Curva S.</td>\n",
    "  </tr>\n",
    "  <tr>\n",
    "    <td style=\"border: 1px solid #ddd; padding: 8px; background-color: #f2f2f2;\">O método de estimativa dos mínimos quadrados é utilizado para estimar a exatidão.</td>\n",
    "    <td style=\"border: 1px solid #ddd; padding: 8px; background-color: #f2f2f2;\">O método de estimativa de máxima verosimilhança é utilizado para estimar a exatidão.</td>\n",
    "  </tr>\n",
    "  <tr>\n",
    "    <td style=\"border: 1px solid #ddd; padding: 8px;\">A saída deve ser um valor contínuo, como o preço, a idade, etc.</td>\n",
    "    <td style=\"border: 1px solid #ddd; padding: 8px;\">A saída deve ser um valor categórico, como 0 ou 1, Sim ou não, etc.</td>\n",
    "  </tr>\n",
    "  <tr>\n",
    "    <td style=\"border: 1px solid #ddd; padding: 8px; background-color: #f2f2f2;\">Exigiu uma relação linear entre as variáveis dependentes e independentes.</td>\n",
    "    <td style=\"border: 1px solid #ddd; padding: 8px; background-color: #f2f2f2;\">Não é necessária uma relação linear.</td>\n",
    "  </tr>\n",
    "  <tr>\n",
    "    <td style=\"border: 1px solid #ddd; padding: 8px;\">Pode haver colinearidade entre as variáveis independentes.</td>\n",
    "    <td style=\"border: 1px solid #ddd; padding: 8px;\">Não deve haver colinearidade entre as variáveis independentes.</td>\n",
    "  </tr>\n",
    "</tbody>\n",
    "</table>\n",
    "</center>\n",
    "\n",
    "\n",
    "<h2 style=\"background:#212121;color:yellow\">explicar liblinear, l2, saga, etc</h2>"
   ]
  },
  {
   "cell_type": "markdown",
   "id": "68bb8976b489eec",
   "metadata": {},
   "source": [
    "<center>\n",
    "    <h2 style=\"color:#126D99\">Grid Search vs. Halving Grid Search</h2>\n",
    "</center>\n",
    "\n",
    "<div style=\"text-align: justify;text-justify: inter-word;\">\n",
    "Antes de explicar o porquê de termos utilizado o <i><b>Halving Grid Search</b></i> é importante explicar o que é um <i><b>Grid Search</b></i>, como funciona, quais as vantagens e desvantagens e por fim os tipos de <i><b>Grid Search</b></i>.\n",
    "Cada modelo de <i>AA</i> contem um conjunto de parâmetros mas o verdadeiro objetivo é aprender os valores ideais destes parâmetros. Além disto, os modelos de <i>AA</i> também têm um certo conjunto de hiperparâmetros. Por exemplo, o valor de <i>K</i>, o número de vizinhos, no algoritmo <i>K-Nearest Neighbors</i>.\n",
    "</div>\n",
    "<br>\n",
    "<div style=\"text-align: justify;text-justify: inter-word;\">\n",
    "Estes hiperparâmetros não são aprendidos pelo modelo mas sim especificados por alguém, por exemplo o nosso docente. E influenciam o desempenho do modelo, podendo estes serem ajustados. \n",
    "Como isto, lança-se a pergunta para o ar...Então, como é que se encontram os valores ideais para estes hiperparâmetros? A resposta é <b>otimização de hiperparâmetros</b>, é o nome que se dá a este processo <b>demorado</b> e <b>\"computacionalmente doloroso\"</b>.\n",
    "</div>\n",
    "<br>\n",
    "<div style=\"text-align: justify;text-justify: inter-word;\">\n",
    "Posto isto, comecemos por explicar o que é <i><b>Grid Search</b></i>, em português <b>Procura em Grelha</b>. Vamos abordar este tema de modo diferente, segue uma imagem que nos ajuda a perceber visualmente o que é:\n",
    "</div>\n",
    "\n",
    "<h2 style=\"background:#212121;color:yellow\">meter aqui a imagem do grid search</h2>\n",
    "\n",
    "<div style=\"text-align: justify;text-justify: inter-word;\">\n",
    "Como mencionado acima, o desempenho de um modelo depende significativamente do valor dos hiperparâmetros. Note-se que não há forma de conhecer antecipadamente os melhores valores, pelo que, idealmente, é necessário experimentar todos os valores possíveis para conhecer os valores óptimos. Fazer isto manualmente pode levar uma quantidade considerável de tempo e recursos, pelo que utilizamos o <b><i>GridSearchCV</i></b> para automatizar esta afinação.\n",
    "</div>\n",
    "<br>\n",
    "<div style=\"text-align: justify;text-justify: inter-word;\">\n",
    "O <b><i>GridSearchCV</i></b> é uma função que vem da <i>library model_selection do <u>Scikit-learn</u></i>. Esta função ajuda a percorrer os hiperparâmetros predefinidos e a ajustar o modelo ao conjunto de treino. Assim, no final, podemos selecionar os melhores parâmetros entre os hiperparâmetros listados.\n",
    "</div>\n",
    "<br>\n",
    "<div style=\"text-align: justify;text-justify: inter-word;\">\n",
    "As duas técnicas mais conhecidas de <i>hyperparameter tuning</i> são:\n",
    "</div>\n",
    "<br>\n",
    "<ul>\n",
    "<li><b>Grid Search</b> - Procura em Grelha</li>\n",
    "<li><b>Random Search</b> - Procura Aleatória</li>\n",
    "</ul>\n",
    "<div style=\"text-align: justify;text-justify: inter-word;\">\n",
    "No entanto, devido à necessidade de acelerarmos o processo e por não termos grandes <b>\"máquinas\"</b> para o fazer, optamos por utilizar o <b><i>Halving Grid Search</i></b>, que é uma técnica de <i>hyperparameter tuning</i> que utiliza o <b><i>Grid Search</i></b> mas de uma forma mais eficiente.\n",
    "Com pouca procura encontrámos, disponível na <a href=\"https://scikit-learn.org/stable/auto_examples/model_selection/plot_successive_halving_heatmap.html\">documentação</a> do <i>Scikit-learn</i>, uma função chamada <b><i>HalvingGridSearchCV</i></b>, juntamente com os seguintes resultados:\n",
    "</div>\n",
    "<br>\n",
    "<center>\n",
    "<img src=\"imagens/halving_heatmap.png\" width=\"50%\"/>\n",
    "</center>\n",
    "<br>\n",
    "<div style=\"background:#f8f8f8;padding:5px;text-align: justify;text-justify: inter-word;\">\n",
    "<i>The heatmaps show the mean test score of the parameter combinations for an SVC instance. The HalvingGridSearchCV also shows the iteration at which the combinations where last used. The combinations marked as 0 were only evaluated at the first iteration, while the ones with 5 are the parameter combinations that are considered the best ones. <b>We can see that the HalvingGridSearchCV class is able to find parameter combinations that are just as accurate as GridSearchCV, in much less time.</b></i>\n",
    "</div>\n",
    "<br>\n",
    "<div style=\"text-align: justify;text-justify: inter-word;\">\n",
    "Embora, ainda <b>experimental</b> apostámos nesta função, pois, como podemos ver na imagem acima, é capaz de encontrar combinações de parâmetros que são tão precisas quanto o <b><i>Grid Search</i></b>, em muito menos tempo.\n",
    "</div>\n",
    "<br>\n",
    "<div style=\"text-align: justify;text-justify: inter-word;\">\n",
    "A pesquisa é feita sobre valores de parâmetros especificados <b>com redução sucessiva a metade</b> e começa por avaliar todos os candidatos com uma quantidade menor de recursos e selecciona iterativamente os melhores candidatos, utilizando cada vez mais recursos. Enquanto o <b><i>Grid Search</i></b> faz uma pesquisa exaustiva sobre os parâmetros especificados, ou seja, utiliza todos os recursos disponíveis para avaliar todos os candidatos.\n",
    "</div>\n",
    "\n",
    "<h2 style=\"background:#212121;color:yellow\">meter aqui a imagem do halving grid search e mais umas cenas</h2>"
   ]
  },
  {
   "cell_type": "code",
   "execution_count": 10,
   "id": "9fa94fc3114bfc2f",
   "metadata": {
    "collapsed": false,
    "jupyter": {
     "outputs_hidden": false
    },
    "tags": []
   },
   "outputs": [
    {
     "name": "stdout",
     "output_type": "stream",
     "text": [
      "Best C: 1\n",
      "Prob Acertos Treino: 91.7\n",
      "Prob Acertos Teste/Validação: 89.0\n"
     ]
    }
   ],
   "source": [
    "from sklearn.metrics import accuracy_score\n",
    "from sklearn.decomposition import TruncatedSVD\n",
    "\n",
    "# TESTE RAFA PCA (04:13 AM 19/01/2024)\n",
    "# PELO QUE ESTIVE A LER DEVE SER USADO COM DADOS MAIORES (OVERALL MULTICLASS FOR EXAMPLE)\n",
    "# https://scikit-learn.org/stable/modules/generated/sklearn.decomposition.TruncatedSVD.html\n",
    "param_grid = {'C': [0.01, 0.1, 1]}\n",
    "\n",
    "svd = TruncatedSVD(n_components=50)\n",
    "\n",
    "X_train_svd = svd.fit_transform(X_train)\n",
    "X_test_svd = svd.transform(X_test)\n",
    "\n",
    "halving_grid_search = HalvingGridSearchCV(LogisticRegression(), param_grid, cv=3, n_jobs=-1)\n",
    "halving_grid_search.fit(X_train_svd, y_train)\n",
    "\n",
    "best_C = halving_grid_search.best_params_['C']\n",
    "print(f'Best C: {best_C}')\n",
    "\n",
    "lr = LogisticRegression(C=best_C, penalty='l2', solver='liblinear', max_iter=5000, tol=1e-2)\n",
    "\n",
    "lr.fit(X_train, y_train)\n",
    "\n",
    "y_pred = lr.predict(X_test)\n",
    "\n",
    "train_accuracy = lr.score(X_train, y_train) * 100\n",
    "test_accuracy = accuracy_score(y_test, y_pred) * 100\n",
    "\n",
    "print(f'Prob Acertos Treino: {train_accuracy:.1f}')\n",
    "print(f'Prob Acertos Teste/Validação: {test_accuracy:.1f}')"
   ]
  },
  {
   "cell_type": "code",
   "execution_count": 8,
   "id": "3024105ecad97970",
   "metadata": {
    "ExecuteTime": {
     "end_time": "2024-01-15T22:46:11.490406100Z",
     "start_time": "2024-01-15T22:46:08.607407600Z"
    },
    "collapsed": false,
    "jupyter": {
     "outputs_hidden": false
    },
    "tags": []
   },
   "outputs": [
    {
     "name": "stdout",
     "output_type": "stream",
     "text": [
      "Best C: 1\n",
      "Matriz de confusão:\n",
      "[[2297  350]\n",
      " [ 207 3864]]\n",
      "Precision: 0.917332268370607\n",
      "Recall: 0.8677748394408764\n",
      "False Alarm: 0.05084745762711865\n",
      "F-Score: 0.8918656571539507\n",
      "Accuracy: 0.9170884191723727\n",
      "Menor número de erros: 557\n",
      "Melhor cross-validation-score: 0.890625\n"
     ]
    },
    {
     "data": {
      "image/png": "[encoded data removed]",
      "text/plain": [
       "<Figure size 640x480 with 1 Axes>"
      ]
     },
     "metadata": {},
     "output_type": "display_data"
    },
    {
     "data": {
      "image/png": "[encoded data removed]",
      "text/plain": [
       "<Figure size 640x480 with 1 Axes>"
      ]
     },
     "metadata": {},
     "output_type": "display_data"
    },
    {
     "name": "stdout",
     "output_type": "stream",
     "text": [
      "Prob Acertos Treino: 91.7\n",
      "Prob Acertos Teste/Validação: 89.0\n"
     ]
    }
   ],
   "source": [
    "param_grid = {'C': [0.01, 0.1, 1]}\n",
    "\n",
    "halving_grid_search = HalvingGridSearchCV(LogisticRegression(), param_grid, cv=3, n_jobs=-1)\n",
    "halving_grid_search.fit(X_train, y_train)\n",
    "\n",
    "best_C = halving_grid_search.best_params_['C']\n",
    "print(f'Best C: {best_C}')\n",
    "\n",
    "lr = LogisticRegression(C=best_C, penalty='l2', solver='liblinear', max_iter=5000, tol=1e-2)\n",
    "\n",
    "lr.fit(X_train, y_train)\n",
    "\n",
    "metrics(X_train, y_train, lr)\n",
    "\n",
    "print('Prob Acertos Treino: %.1f'%(lr.score(X_train,y_train)*100))\n",
    "print('Prob Acertos Teste/Validação: %.1f'%(lr.score(X_test,y_test)*100))"
   ]
  },
  {
   "cell_type": "markdown",
   "id": "5150560d13b6ec06",
   "metadata": {},
   "source": [
    "<h2 style=\"background:#212121;color:yellow\">joana mete isto tudo seguido tipo grid plot</h2>"
   ]
  },
  {
   "cell_type": "markdown",
   "id": "8056c2d963931ffb",
   "metadata": {},
   "source": [
    "<h2 style=\"color:#126D99\"><i>Support Vector Machines</i> (SVM)</h2>\n",
    "\n",
    "<div style=\"text-align: justify;text-justify: inter-word;\"> O <i>SVM</i> trata-se de um algoritmo supervisionado que pode ser utilizado tanto para classificação como para regressão. O segundo classificador utilizado foi o <b><i>Support Vector Classification</i> (SVC)</b> ou <b>Classificação de Suporte Vetorial</b>, que é uma implementação específica do SVM para tarefas de classificação.</div>\n",
    "\n",
    "<h3 style=\"color:#126D99\">SVC? Qual é o objetivo?</h3>\n",
    "<div style=\"text-align: justify;text-justify: inter-word;\"> O objetivo do SVC é encontrar uma linha que separa os dados de duas classes com a maior distância possível entre os pontos de dados de cada classe. Esta linha pode também ser chamada de hiperplano. Existem vários hiperplanos que podem separar as classes, mas o que o SVC faz é encontrar o hiperplano que tem a maior distância aos pontos de dados mais próximos de qualquer classe (chamados vetores de suporte, daí o nome do algoritmo).</div>\n",
    "\n",
    "<h2 style=\"color:#126D99\">E como funciona?</h2>\n",
    "<div style=\"text-align: justify;text-justify: inter-word;\"> O SVC funciona identificando os pontos mais próximos em cada conjunto de dados, chamados vetores de suporte. Esses vetores são essenciais para estabelecer a fronteira entre os dois conjuntos de dados. A configuração da fronteira é otimizada para maximizar a distância entre os vetores de suporte e a própria fronteira. Em outras palavras, o objetivo é garantir que estes vetors de cada conjunto de dados estão posicionados de maneira mais distante possível da fronteira.</div>\n",
    "\n",
    "<div style=\"text-align: justify;text-justify: inter-word;\"> \n",
    "<center><h2 style=\"color:#126D99\">Parâmetros do SVC</h2></center>\n",
    "  <ul>\n",
    "  <h3 style=\"color:#126D99\">Parâmetro C</h3>\n",
    "  <ul>\n",
    "        <li>Controla o equilíbrio entre alcançar um hiperplano de separação suave e classificar corretamente dos pontos de treino.</li>\n",
    "        <li>Regula a largura da margem. Quanto maior o valor de C, menor a margem, ou seja, mais pontos de treino são classificados corretamente.</li>\n",
    "        <li>Um valor mais elevado de C implica uma margem maior, ou seja, permite uma maior tolerância ao erro na classificação dos pontos de treino.</li>\n",
    "        <li>Um valor mais baixo resulta numa margem mais estreita, ou seja, penaliza mais os pontos de treino incorretamente classificados (menos tolerância ao erro).</li>\n",
    "    </ul>\n",
    "\n",
    "  <h3 style=\"color:#126D99\">Parâmetro Gamma</h3>\n",
    "  <ul>\n",
    "        <li>Controla a forma da superfície de decisão.</li>\n",
    "        <li>Influencia a forma da margem, controlando a flexibilidade da fronteira de decisão.</li>\n",
    "        <li>Um valor gamma alto traduz-se numa margem mais curva, ou seja, mais flexível podendo-se ajustar de maneira mais complexa aos dados de treino.</li>\n",
    "        <li>Um valor gamma mais baixo conduz a uma margem mais linear, ou seja, o modelo é menos sensível às variações específicas dos dados de treino.</li>\n",
    "    </ul>\n",
    "  </ul>\n",
    "\n",
    "\n",
    "<h2 style=\"color:#126D99\">Exemplo</h2>\n",
    "\n",
    "Imaginemos que temos um conjunto de brinquedos e temos de os separar em dois grupos: os brinquedos bons e os brinquedos maus. Podemos realizar esta tarefa através de uma margem, que consiste numa linha imaginária que divide os dois grupos.\n",
    "\n",
    "A margem pode ser maior ou mais estreita. Se optarmos por uma margem maior, estamos a permitir que alguns brinquedos bons sejam classificados como brinquedos maus, e vice-versa. Por outro lado, se a margem for mais estreita, estamos a tentar classificar todos os brinquedos corretamente, mesmo que isso torne a margem mais difícil de identificar.\n",
    "\n",
    "<h2 style=\"background:#212121;color:yellow\">Porquê os valores que utilizamos? EXPLICAR MELHOR AQUI TALVEZ EU NAO SEI COMO EXPLICAR OS VALORES</h2>\n",
    "<h2 style=\"background:#212121;color:red\">eu posso explicar (rafa)</h2>\n",
    "\n",
    "Escolhemos C como 0,1 e gamma como 0,01. Isto implica que estamos a utilizar uma margem relativamente estreita e uma função kernel relativamente suave.\n",
    "\n",
    "Optámos por estes valores porque conduziram ao melhor desempenho do nosso modelo na validação cruzada (cv=5). \n",
    "</div>\n"
   ]
  },
  {
   "cell_type": "code",
   "execution_count": 17,
   "id": "78e2219f6ee2b3db",
   "metadata": {
    "ExecuteTime": {
     "end_time": "2024-01-15T22:47:07.600383100Z",
     "start_time": "2024-01-15T22:46:11.489730900Z"
    },
    "collapsed": false,
    "jupyter": {
     "outputs_hidden": false
    }
   },
   "outputs": [
    {
     "name": "stdout",
     "output_type": "stream",
     "text": [
      "Best C: 100\n",
      "Best gamma: 1\n",
      "Matriz de confusão:\n",
      "[[2647    0]\n",
      " [   1 4070]]\n",
      "Precision: 0.9996223564954683\n",
      "Recall: 1.0\n",
      "False Alarm: 0.00024563989191844754\n",
      "F-Score: 0.9998111425873466\n",
      "Accuracy: 0.9998511461744567\n",
      "Menor número de erros: 1\n",
      "Melhor cross-validation-score: 0.9017857142857143\n"
     ]
    },
    {
     "data": {
      "image/png": "[encoded data removed]",
      "text/plain": [
       "<Figure size 640x480 with 1 Axes>"
      ]
     },
     "metadata": {},
     "output_type": "display_data"
    },
    {
     "data": {
      "image/png": "[encoded data removed]",
      "text/plain": [
       "<Figure size 640x480 with 1 Axes>"
      ]
     },
     "metadata": {},
     "output_type": "display_data"
    },
    {
     "name": "stdout",
     "output_type": "stream",
     "text": [
      "Prob Acertos Treino: 100.0\n",
      "Prob Acertos Teste/Validação: 89.8\n"
     ]
    }
   ],
   "source": [
    "param_grid = {'C': [0.1, 1, 10, 100],\n",
    "              'gamma': [0.01, 0.1, 1, 10]}\n",
    "\n",
    "svc = SVC()\n",
    "\n",
    "halving_grid_search = HalvingGridSearchCV(svc, param_grid, cv=3, n_jobs=-1) # cv é o número de dobras na validação cruzada\n",
    "halving_grid_search.fit(X_train, y_train)\n",
    "\n",
    "best_C = halving_grid_search.best_params_['C']\n",
    "best_gamma = halving_grid_search.best_params_['gamma']\n",
    "print(f'Best C: {best_C}')\n",
    "print(f'Best gamma: {best_gamma}')\n",
    "\n",
    "clf = SVC(C=best_C, gamma=best_gamma).fit(X_train, y_train)\n",
    "\n",
    "pickle.dump({'modelo': clf}, open('classificador_svc_binario.p', 'wb'))\n",
    "\n",
    "metrics(X_train, y_train, clf)\n",
    "\n",
    "print('Prob Acertos Treino: %.1f'%(clf.score(X_train,y_train)*100))\n",
    "print('Prob Acertos Teste/Validação: %.1f'%(clf.score(X_test,y_test)*100))"
   ]
  },
  {
   "cell_type": "markdown",
   "id": "a117a9983940c9ca",
   "metadata": {},
   "source": [
    "<h2 style=\"color:#126D99\">K-Nearest Neighbors (KNN)</h2>\n",
    "<div style=\"text-align: justify;text-justify: inter-word;\">\n",
    "O K-Nearest Neighbors (KNN) é um algoritmo de classificação supervisionado que atribui uma classe a um ponto desconhecido com base nas classes dos pontos mais próximos a ele. É um algoritmo simples e eficaz que pode ser usado para uma variedade de problemas de classificação.\n",
    "</div>\n",
    "\n",
    "<h3 style=\"color:#126D99\">Objetivo do KNN</h3>\n",
    "<div style=\"text-align: justify;text-justify: inter-word;\">\n",
    "O objetivo principal do KNN é atribuir uma classe a um ponto desconhecido com base nas classes dos pontos mais próximos a ele. A proximidade é medida por meio de uma métrica de distância.\n",
    "</div>\n",
    "\n",
    "<h3 style=\"color:#126D99\">Como funciona o KNN?</h3>\n",
    "<div style=\"text-align: justify;text-justify: inter-word;\">\n",
    "Quando um ponto precisa ser classificado, o algoritmo calcula a distância entre esse ponto e todos os outros pontos no conjunto de treino. Em seguida, identifica os k pontos mais próximos (vizinhos) e atribui a classe maioritária desses k vizinhos ao ponto em questão.\n",
    "</div>\n",
    "\n",
    "<h3 style=\"color:#126D99\">Parâmetros do KNN</h3>\n",
    "<div style=\"text-align: justify;text-justify: inter-word;\">\n",
    "Os principais parâmetros do KNN incluem:\n",
    "<ul>\n",
    "<li><b><i>n_neighbors</i></b> Número de vizinhos a serem considerados. Valores maiores podem tornar a fronteira de decisão mais suave, enquanto valores menores podem levar a uma fronteira mais irregular.</li>\n",
    "<li><b><i></i>weights</b> Determina como os vizinhos contribuem para a classificação do ponto desconhecido. 'Uniform' atribui igual peso a todos os vizinhos, enquanto 'Distance' atribui pesos proporcionais à inversa da distância.</li>\n",
    "<li><b><i>p</i></b> Parâmetro de distância. Quando p=1, utiliza-se a distância de Manhattan, e quando p=2, utiliza-se a distância euclidiana.</li>\n",
    "</div>\n",
    "\n",
    "<h3 style=\"color:#126D99\">Exemplo</h3>\n",
    "<div style=\"text-align: justify;text-justify: inter-word;\">\n",
    "Imaginemos que temos um monte de bolas de diferentes cores. O KNN é um algoritmo que pode ser usado para adivinhar a cor de uma bola nova, olhando para as bolas que estão mais perto dela. O algoritmo conta quantas bolas de cada cor estão perto da bola nova, e atribui a cor mais comum à bola nova. Por exemplo, se a bola nova estiver rodeada de bolas vermelhas, o algoritmo dirá que a bola nova é vermelha. \n",
    "</div>\n",
    "\n",
    "<h3 style=\"color:#126D99\">Escolha dos Valores dos Parâmetros</h3>\n",
    "<div style=\"text-align: justify;text-justify: inter-word;\">\n",
    "Os valores dos parâmetros que escolhemos para o KNN foram obtidos por meio de Grid Search. Escolhemos valores para `n_neighbors` variando de 8 a 48, `weights` com 'uniform' e 'distance', e `p` com 1 e 2. O melhor conjunto de parâmetros foi selecionado com base no desempenho do modelo na validação cruzada (cv=5), garantindo robustez e generalização do modelo.\n",
    "</div>\n",
    "\n",
    "<h2 style=\"background:#212121;color:yellow\">docstring <span color=\"purple\">JOANA</span></h2>"
   ]
  },
  {
   "cell_type": "code",
   "execution_count": 18,
   "id": "7c994c829522435e",
   "metadata": {
    "ExecuteTime": {
     "end_time": "2024-01-15T22:47:07.647950300Z",
     "start_time": "2024-01-15T22:47:07.604344800Z"
    },
    "collapsed": false,
    "jupyter": {
     "outputs_hidden": false
    }
   },
   "outputs": [],
   "source": [
    "def knn_metrics(X2, yteste, knn):\n",
    "    predictions = knn.predict(X2)\n",
    "    CM, precision, recall, false_alarm, f_score, accuracy, min_errors = calculate_metrics(predictions, yteste)\n",
    "    print_metrics(CM, precision, recall, false_alarm, f_score, accuracy, min_errors)\n",
    "    calculate_cross_val_score(knn, X2, yteste)\n",
    "    y2d = knn.predict_proba(X2)[:, 1]  # k-NN doesn't have `decision_function`, we need to use `predict_proba` for ROC/PR curves\n",
    "    plot_precision_recall_curve(yteste, y2d, precision, recall)\n",
    "    plot_roc_curve(yteste, y2d, false_alarm, recall)"
   ]
  },
  {
   "cell_type": "markdown",
   "id": "88316978ddfbefd2",
   "metadata": {},
   "source": [
    "<h2 style=\"background:#212121;color:yellow\">ou tiras print ou metes os dois graficos um ao lado do outro<span color=\"purple\">JOANA</span></h2>"
   ]
  },
  {
   "cell_type": "code",
   "execution_count": 19,
   "id": "a2b3ae586626f44a",
   "metadata": {
    "ExecuteTime": {
     "end_time": "2024-01-15T22:47:29.625473800Z",
     "start_time": "2024-01-15T22:47:07.607333700Z"
    },
    "collapsed": false,
    "jupyter": {
     "outputs_hidden": false
    }
   },
   "outputs": [
    {
     "name": "stdout",
     "output_type": "stream",
     "text": [
      "Best n_neighbors: 28\n",
      "Best p: 2\n",
      "Matriz de confusão:\n",
      "[[2096  551]\n",
      " [ 331 3740]]\n",
      "Precision: 0.8636176349402555\n",
      "Recall: 0.791839818662637\n",
      "False Alarm: 0.08130680422500614\n",
      "F-Score: 0.8261726448561294\n",
      "Accuracy: 0.8687109258707949\n",
      "Menor número de erros: 882\n",
      "Melhor cross-validation-score: 0.8645833333333334\n"
     ]
    },
    {
     "data": {
      "image/png": "[encoded data removed]",
      "text/plain": [
       "<Figure size 640x480 with 1 Axes>"
      ]
     },
     "metadata": {},
     "output_type": "display_data"
    },
    {
     "data": {
      "image/png": "[encoded data removed]",
      "text/plain": [
       "<Figure size 640x480 with 1 Axes>"
      ]
     },
     "metadata": {},
     "output_type": "display_data"
    },
    {
     "name": "stdout",
     "output_type": "stream",
     "text": [
      "Prob Acertos Treino: 86.9\n",
      "Prob Acertos Teste/Validação: 85.1\n"
     ]
    }
   ],
   "source": [
    "param_grid = {'n_neighbors': [8, 18, 28, 38, 48],\n",
    "              'p': [1, 2]} \n",
    "\n",
    "halving_grid_search = HalvingGridSearchCV(KNeighborsClassifier(), param_grid, cv=3, n_jobs=-1)\n",
    "halving_grid_search.fit(X_train, y_train)\n",
    "\n",
    "best_neigh = halving_grid_search.best_params_['n_neighbors']\n",
    "best_p = halving_grid_search.best_params_['p']\n",
    "\n",
    "print(f'Best n_neighbors: {best_neigh}')\n",
    "print(f'Best p: {best_p}')\n",
    "      \n",
    "neigh = KNeighborsClassifier(n_neighbors=best_neigh, weights='uniform', p=best_p)\n",
    "neigh.fit(X_train, y_train)\n",
    "\n",
    "knn_metrics(X_train, y_train, neigh)\n",
    "\n",
    "print('Prob Acertos Treino: %.1f'%(neigh.score(X_train,y_train)*100))\n",
    "print('Prob Acertos Teste/Validação: %.1f'%(neigh.score(X_test,y_test)*100))"
   ]
  },
  {
   "cell_type": "markdown",
   "id": "adc406ee6e2333fb",
   "metadata": {},
   "source": [
    "<h2 style=\"color:#126D99\">Classificação Multi-classe</h2>\n",
    "<div style=\"text-align: justify;text-justify: inter-word;\">\n",
    "A classificação multi-classe é um tipo de tarefa em que o objetivo é atribuir instâncias a uma de várias classes distintas. Estas classes podem ser designadas por nomes, números ou qualquer outra designação que represente as categorias em questão. \n",
    "</div>\n",
    "\n",
    "<h2 style=\"background:#212121;color:yellow\">METER AQUI O multiclass.png</h2>\n",
    "\n",
    "<div style=\"text-align: justify;text-justify: inter-word;\">\n",
    "Neste caso, abordámos a tarefa de prever as pontuações de três aspectos diferentes da crítica (smell, taste e overall) com todos os dados disponíveis, em vez de os separar em apenas duas categorias (como fizemos na binaria). Para cada um destes aspectos, criámos listas para armazenar as classificações das cervejas e as pontuações associadas.\n",
    "</div>\n",
    "<br>\n",
    "<div style=\"text-align: justify;text-justify: inter-word;\">\n",
    "As avaliações textuais foram tokenizadas e vectorizadas utilizando a técnica Term Frequency-Inverse Document Frequency (TF-IDF). Em seguida, dividimos os dados em conjuntos de treinamento e teste para cada aspeto específico (geral, sabor, cheiro) usando a função train_test_split.\n",
    "</div>\n",
    "<br>\n",
    "<div style=\"text-align: justify;text-justify: inter-word;\">\n",
    "Para avaliar o desempenho do modelo, calculámos a matriz de confusão utilizando o modelo correspondente a cada aspeto. \n",
    "</div>"
   ]
  },
  {
   "cell_type": "code",
   "execution_count": 12,
   "id": "97af313fd6522475",
   "metadata": {
    "collapsed": false,
    "is_executing": true,
    "jupyter": {
     "outputs_hidden": false
    }
   },
   "outputs": [
    {
     "data": {
      "image/png": "[encoded data removed]",
      "text/plain": [
       "<Figure size 640x480 with 1 Axes>"
      ]
     },
     "metadata": {},
     "output_type": "display_data"
    },
    {
     "data": {
      "image/png": "[encoded data removed]",
      "text/plain": [
       "<Figure size 640x480 with 1 Axes>"
      ]
     },
     "metadata": {},
     "output_type": "display_data"
    },
    {
     "data": {
      "image/png": "[encoded data removed]",
      "text/plain": [
       "<Figure size 640x480 with 1 Axes>"
      ]
     },
     "metadata": {},
     "output_type": "display_data"
    }
   ],
   "source": [
    "beerDic = pd.read_pickle('rateBeer75Ktrain_parsed.p')\n",
    "vocabulary = pd.read_pickle('rateBeer75Ktrain_vocabulary.p')\n",
    "\n",
    "\n",
    "X_list = []\n",
    "Y_list_overall = []\n",
    "Y_list_taste = []\n",
    "Y_list_smell = []\n",
    "Y_list_feel = []\n",
    "for beer, review in beerDic.items():\n",
    "   overall_rating = float(review.overall)\n",
    "   taste_rating = float(review.taste)\n",
    "   smell_rating = float(review.smell)\n",
    "   feel_rating = float(review.feel)\n",
    "   X_list.append(review.review)\n",
    "   Y_list_overall.append(overall_rating)\n",
    "   Y_list_taste.append(taste_rating)\n",
    "   Y_list_smell.append(smell_rating)\n",
    "   Y_list_feel.append(feel_rating)\n",
    "   \n",
    "X = pd.Series(X_list)\n",
    "y_overall = pd.Series(Y_list_overall)\n",
    "y_taste = pd.Series(Y_list_taste)\n",
    "y_smell = pd.Series(Y_list_smell)\n",
    "y_feel = pd.Series(Y_list_feel)\n",
    "\n",
    "vectorizer = TfidfVectorizer(token_pattern=r'\\b\\w\\w+\\b', vocabulary=vocabulary)\n",
    "X = vectorizer.fit_transform(X.fillna(''))\n",
    "\n",
    "X_train_overall, X_test_overall, y_train_overall, y_test_overall = train_test_split(X, y_overall, test_size=0.2, random_state=42)\n",
    "X_train_taste, X_test_taste, y_train_taste, y_test_taste = train_test_split(X, y_taste, test_size=0.2, random_state=42)\n",
    "X_train_smell, X_test_smell, y_train_smell, y_test_smell = train_test_split(X, y_smell, test_size=0.2, random_state=42)\n",
    "X_train_feel, X_test_feel, y_train_feel, y_test_feel = train_test_split(X, y_feel, test_size=0.2, random_state=42)\n",
    "\n",
    "\n",
    "plt.hist(y_overall, bins=20)\n",
    "plt.title('Distribuição das Críticas - Overall')\n",
    "plt.ylabel('Número de Críticas')\n",
    "plt.show()\n",
    "\n",
    "plt.hist(y_taste, bins=10)\n",
    "plt.title('Distribuição das Críticas - Taste')\n",
    "plt.ylabel('Número de Críticas')\n",
    "plt.show()\n",
    "\n",
    "plt.hist(y_smell, bins=10)\n",
    "plt.title('Distribuição das Críticas - Smell')\n",
    "plt.ylabel('Número de Críticas')\n",
    "plt.show()"
   ]
  },
  {
   "cell_type": "markdown",
   "id": "babc986ec7096e5d",
   "metadata": {},
   "source": [
    "<h2 style=\"color:#126D99\">Classificadores Utilizados</h2>\n",
    "<div style=\"text-align: justify;text-justify: inter-word;\">\n",
    "Escolhemos utilizar o KNN e o SVC para a classificação multi-classe, apesar do tempo demorado foi o que obtes resultados. Assim, para cada um dos aspetos (overall, taste e smell) utilizámos o SVC e o KNN para classificar as críticas. Adicionalmente, também fizemos com o feel.\n",
    "</div>"
   ]
  },
  {
   "cell_type": "code",
   "execution_count": null,
   "id": "1e56386c6d45cbaa",
   "metadata": {
    "collapsed": false,
    "jupyter": {
     "outputs_hidden": false
    }
   },
   "outputs": [],
   "source": [
    "param_grid = {'n_neighbors': [18, 28, 38, 48, 50],\n",
    "              'p': [1, 2]} \n",
    "\n",
    "grid_search = HalvingGridSearchCV(KNeighborsClassifier(), param_grid, cv=3, n_jobs=-1, verbose=1)\n",
    "grid_search.fit(X_train_overall, y_train_overall)\n",
    "\n",
    "best_neigh = grid_search.best_params_['n_neighbors']\n",
    "best_p = grid_search.best_params_['p']\n",
    "\n",
    "print(f'Best n_neighbors: {best_neigh}')\n",
    "print(f'Best p: {best_p}')\n",
    "\n",
    "neigh = KNeighborsClassifier(n_neighbors=best_neigh, weights='distance', p=best_p, metric='euclidean')\n",
    "neigh.fit(X_train_overall, y_train_overall)\n",
    "\n",
    "MC  = confusion_matrix(y_train_overall, neigh.predict(X_train_overall))\n",
    "print('Matriz de Confusão:')\n",
    "print(MC)\n",
    "print('\\nNúmero de Erros: ', np.sum(neigh.predict(X_train_overall) != y_train_overall))\n",
    "print('\\nAccuracy: ', np.sum(neigh.predict(X_train_overall) == y_train_overall)/len(y_train_overall))\n",
    "\n",
    "print('Prob Acertos Treino: %.1f'%(neigh.score(X_train_overall,y_train_overall)*100))\n",
    "print('Prob Acertos Teste/Validação: %.1f'%(neigh.score(X_test_overall,y_test_overall)*100))"
   ]
  },
  {
   "cell_type": "code",
   "execution_count": null,
   "id": "539614df6c27d488",
   "metadata": {
    "collapsed": false,
    "jupyter": {
     "outputs_hidden": false
    }
   },
   "outputs": [
    {
     "name": "stdout",
     "output_type": "stream",
     "text": [
      "n_iterations: 3\n",
      "n_required_iterations: 3\n",
      "n_possible_iterations: 3\n",
      "min_resources_: 6666\n",
      "max_resources_: 60000\n",
      "aggressive_elimination: False\n",
      "factor: 3\n",
      "----------\n",
      "iter: 0\n",
      "n_candidates: 12\n",
      "n_resources: 6666\n",
      "Fitting 3 folds for each of 12 candidates, totalling 36 fits\n",
      "----------\n",
      "iter: 1\n",
      "n_candidates: 4\n",
      "n_resources: 19998\n",
      "Fitting 3 folds for each of 4 candidates, totalling 12 fits\n",
      "----------\n",
      "iter: 2\n",
      "n_candidates: 2\n",
      "n_resources: 59994\n",
      "Fitting 3 folds for each of 2 candidates, totalling 6 fits\n",
      "Best C: 1\n",
      "Best gamma: 2\n"
     ]
    }
   ],
   "source": [
    "param_grid = {'C': [0.1, 1, 2],\n",
    "              'gamma': [0.01, 0.1, 1, 2]}\n",
    "\n",
    "svc = SVC()\n",
    "\n",
    "grid_search = HalvingGridSearchCV(svc, param_grid, cv=3, n_jobs=-1, verbose=1)\n",
    "grid_search.fit(X_train_overall, y_train_overall)\n",
    "\n",
    "best_C = grid_search.best_params_['C']\n",
    "best_gamma = grid_search.best_params_['gamma']\n",
    "print(f'Best C: {best_C}')\n",
    "print(f'Best gamma: {best_gamma}')\n",
    "\n",
    "clf = SVC(C=best_C, gamma=best_gamma).fit(X_train_overall, y_train_overall)\n",
    "\n",
    "pickle.dump({'modelo': clf}, open('classificador_svc_overall_multiclass.p', 'wb'))\n",
    "\n",
    "MC  = confusion_matrix(y_train_overall, clf.predict(X_train_overall))\n",
    "print('Matriz de Confusão:')\n",
    "print(MC)\n",
    "print('\\nNúmero de Erros: ', np.sum(clf.predict(X_train_overall) != y_train_overall))\n",
    "print('\\nAccuracy: ', np.sum(clf.predict(X_train_overall) == y_train_overall)/len(y_train_overall))\n",
    "\n",
    "print('Prob Acertos Treino: %.1f'%(clf.score(X_train_overall,y_train_overall)*100))\n",
    "print('Prob Acertos Teste/Validação: %.1f'%(clf.score(X_test_overall,y_test_overall)*100))"
   ]
  },
  {
   "cell_type": "markdown",
   "id": "883f566cc866f90f",
   "metadata": {},
   "source": [
    "<h2 style=\"background:#212121;color:yellow\">TASTE</h2>"
   ]
  },
  {
   "cell_type": "code",
   "execution_count": null,
   "id": "ad8ecee523075a5",
   "metadata": {
    "collapsed": false,
    "jupyter": {
     "outputs_hidden": false
    }
   },
   "outputs": [],
   "source": [
    "param_grid = {'n_neighbors': [10, 20, 30, 40],\n",
    "              'p': [1, 2]} \n",
    "\n",
    "grid_search = HalvingGridSearchCV(KNeighborsClassifier(), param_grid, cv=3, n_jobs=-1, verbose=1)\n",
    "grid_search.fit(X_train_taste, y_train_taste)\n",
    "\n",
    "best_neigh = grid_search.best_params_['n_neighbors']\n",
    "best_p = grid_search.best_params_['p']\n",
    "\n",
    "print(f'Best n_neighbors: {best_neigh}')\n",
    "print(f'Best p: {best_p}')\n",
    "\n",
    "neigh = KNeighborsClassifier(n_neighbors=best_neigh, weights='distance', p=best_p, metric='euclidean')\n",
    "neigh.fit(X_train_taste, y_train_taste)\n",
    "\n",
    "MC  = confusion_matrix(y_train_taste, neigh.predict(X_train_taste))\n",
    "print('Matriz de Confusão:')\n",
    "print(MC)\n",
    "print('\\nNúmero de Erros: ', np.sum(neigh.predict(X_train_taste) != y_train_taste))\n",
    "print('\\nAccuracy: ', np.sum(neigh.predict(X_train_taste) == y_train_taste)/len(y_train_taste))\n",
    "print('Prob Acertos Treino: %.1f'%(neigh.score(X_train_taste,y_train_taste)*100))\n",
    "\n",
    "print('Prob Acertos Teste/Validação: %.1f'%(neigh.score(X_test_taste,y_test_taste)*100))"
   ]
  },
  {
   "cell_type": "code",
   "execution_count": null,
   "id": "8e01c42fb5b64866",
   "metadata": {
    "collapsed": false,
    "jupyter": {
     "outputs_hidden": false
    }
   },
   "outputs": [],
   "source": [
    "param_grid = {'C': [0.1, 1, 2],\n",
    "              'gamma': [0.1, 1, 2]}\n",
    "\n",
    "svc = SVC()\n",
    "\n",
    "grid_search = HalvingGridSearchCV(svc, param_grid, cv=3, n_jobs=-1, verbose=1)\n",
    "grid_search.fit(X_train_taste, y_train_taste)\n",
    "\n",
    "best_C = grid_search.best_params_['C']\n",
    "best_gamma = grid_search.best_params_['gamma']\n",
    "print(f'Best C: {best_C}')\n",
    "print(f'Best gamma: {best_gamma}')\n",
    "\n",
    "clf = SVC(C=best_C, gamma=best_gamma).fit(X_train_taste, y_train_taste)\n",
    "\n",
    "MC  = confusion_matrix(y_train_taste, clf.predict(X_train_taste))\n",
    "print('Matriz de Confusão:')\n",
    "print(MC)\n",
    "print('\\nNúmero de Erros: ', np.sum(clf.predict(X_train_taste) != y_train_taste))\n",
    "print('\\nAccuracy: ', np.sum(clf.predict(X_train_taste) == y_train_taste)/len(y_train_taste))\n",
    "\n",
    "print('Prob Acertos Treino: %.1f'%(clf.score(X_train_taste,y_train_taste)*100))\n",
    "print('Prob Acertos Teste/Validação: %.1f'%(clf.score(X_test_taste,y_test_taste)*100))"
   ]
  },
  {
   "cell_type": "markdown",
   "id": "3a2c8c0eea990258",
   "metadata": {},
   "source": [
    "<h2 style=\"background:#212121;color:yellow\">SMELL</h2>"
   ]
  },
  {
   "cell_type": "code",
   "execution_count": null,
   "id": "f91978deb93b2c28",
   "metadata": {
    "collapsed": false,
    "jupyter": {
     "outputs_hidden": false
    }
   },
   "outputs": [],
   "source": [
    "param_grid = {'n_neighbors': [8, 18, 28, 38, 49],\n",
    "              'p': [1, 2]} \n",
    "\n",
    "grid_search = HalvingGridSearchCV(KNeighborsClassifier(), param_grid, cv=3, n_jobs=-1, verbose=1)\n",
    "grid_search.fit(X_train_smell, y_train_smell)\n",
    "\n",
    "best_neigh = grid_search.best_params_['n_neighbors']\n",
    "best_p = grid_search.best_params_['p']\n",
    "\n",
    "print(f'Best n_neighbors: {best_neigh}')\n",
    "print(f'Best p: {best_p}')\n",
    "\n",
    "neigh = KNeighborsClassifier(n_neighbors=best_neigh, weights='distance', p=best_p, metric='euclidean')\n",
    "neigh.fit(X_train_smell, y_train_smell)\n",
    "\n",
    "MC  = confusion_matrix(y_train_smell, neigh.predict(X_train_smell))\n",
    "print('Matriz de Confusão:')\n",
    "print(MC)\n",
    "print('\\nNúmero de Erros: ', np.sum(neigh.predict(X_train_smell) != y_train_smell))\n",
    "print('\\nAccuracy: ', np.sum(neigh.predict(X_train_smell) == y_train_smell)/len(y_train_smell))\n",
    "\n",
    "print('Prob Acertos Treino: %.1f'%(neigh.score(X_train_smell,y_train_smell)*100))\n",
    "print('Prob Acertos Teste/Validação: %.1f'%(neigh.score(X_test_smell,y_test_smell)*100))"
   ]
  },
  {
   "cell_type": "code",
   "execution_count": null,
   "id": "5b641096d9eb2da1",
   "metadata": {
    "collapsed": false,
    "jupyter": {
     "outputs_hidden": false
    }
   },
   "outputs": [],
   "source": [
    "param_grid = {'C': [0.1, 1, 2],\n",
    "              'gamma': [0.1, 1, 2]}\n",
    "\n",
    "svc = SVC()\n",
    "\n",
    "grid_search = HalvingGridSearchCV(svc, param_grid, cv=3, n_jobs=-1, verbose=1)\n",
    "grid_search.fit(X_train_smell, y_train_smell)\n",
    "\n",
    "best_C = grid_search.best_params_['C']\n",
    "best_gamma = grid_search.best_params_['gamma']\n",
    "print(f'Best C: {best_C}')\n",
    "print(f'Best gamma: {best_gamma}')\n",
    "\n",
    "clf = SVC(C=best_C, gamma=best_gamma).fit(X_train_smell, y_train_smell)\n",
    "\n",
    "MC  = confusion_matrix(y_train_taste, clf.predict(X_train_smell))\n",
    "print('Matriz de Confusão:')\n",
    "print(MC)\n",
    "print('\\nNúmero de Erros: ', np.sum(clf.predict(X_train_smell) != y_train_smell))\n",
    "print('\\nAccuracy: ', np.sum(clf.predict(X_train_smell) == y_train_smell)/len(y_train_smell))\n",
    "\n",
    "print('Prob Acertos Treino: %.1f'%(clf.score(X_train_smell,y_train_smell)*100))\n",
    "print('Prob Acertos Teste/Validação: %.1f'%(clf.score(X_test_smell,y_test_smell)*100))"
   ]
  },
  {
   "cell_type": "markdown",
   "id": "641119624fd5e2f2",
   "metadata": {},
   "source": [
    "<h2 style=\"background:#212121;color:yellow\">FEEL</h2>"
   ]
  },
  {
   "cell_type": "code",
   "execution_count": null,
   "id": "952ac88073ba50fb",
   "metadata": {
    "collapsed": false,
    "jupyter": {
     "outputs_hidden": false
    }
   },
   "outputs": [],
   "source": [
    "param_grid = {'n_neighbors': [8, 18, 28, 38, 49],\n",
    "              'p': [1, 2]} \n",
    "\n",
    "grid_search = HalvingGridSearchCV(KNeighborsClassifier(), param_grid, cv=3, n_jobs=-1, verbose=1)\n",
    "grid_search.fit(X_train_smell, y_train_smell)\n",
    "\n",
    "best_neigh = grid_search.best_params_['n_neighbors']\n",
    "best_p = grid_search.best_params_['p']\n",
    "\n",
    "print(f'Best n_neighbors: {best_neigh}')\n",
    "print(f'Best p: {best_p}')\n",
    "\n",
    "neigh = KNeighborsClassifier(n_neighbors=best_neigh, weights='distance', p=best_p, metric='euclidean')\n",
    "neigh.fit(X_train_smell, y_train_smell)\n",
    "\n",
    "MC  = confusion_matrix(y_train_smell, neigh.predict(X_train_smell))\n",
    "print('Matriz de Confusão:')\n",
    "print(MC)\n",
    "print('\\nNúmero de Erros: ', np.sum(neigh.predict(X_train_smell) != y_train_smell))\n",
    "print('\\nAccuracy: ', np.sum(neigh.predict(X_train_smell) == y_train_smell)/len(y_train_smell))\n",
    "\n",
    "print('Prob Acertos Treino: %.1f'%(neigh.score(X_train_smell,y_train_smell)*100))\n",
    "print('Prob Acertos Teste/Validação: %.1f'%(neigh.score(X_test_smell,y_test_smell)*100))"
   ]
  },
  {
   "cell_type": "code",
   "execution_count": null,
   "id": "885e4fc144098a8d",
   "metadata": {
    "collapsed": false,
    "jupyter": {
     "outputs_hidden": false
    }
   },
   "outputs": [],
   "source": [
    "param_grid = {'C': [0.1, 1, 2],\n",
    "              'gamma': [0.1, 1, 2]}\n",
    "\n",
    "svc = SVC()\n",
    "\n",
    "grid_search = HalvingGridSearchCV(svc, param_grid, cv=3, n_jobs=-1, verbose=1)\n",
    "grid_search.fit(X_train_smell, y_train_smell)\n",
    "\n",
    "best_C = grid_search.best_params_['C']\n",
    "best_gamma = grid_search.best_params_['gamma']\n",
    "print(f'Best C: {best_C}')\n",
    "print(f'Best gamma: {best_gamma}')\n",
    "\n",
    "clf = SVC(C=best_C, gamma=best_gamma).fit(X_train_smell, y_train_smell)\n",
    "\n",
    "MC  = confusion_matrix(y_train_taste, clf.predict(X_train_smell))\n",
    "print('Matriz de Confusão:')\n",
    "print(MC)\n",
    "print('\\nNúmero de Erros: ', np.sum(clf.predict(X_train_smell) != y_train_smell))\n",
    "print('\\nAccuracy: ', np.sum(clf.predict(X_train_smell) == y_train_smell)/len(y_train_smell))\n",
    "\n",
    "print('Prob Acertos Treino: %.1f'%(clf.score(X_train_smell,y_train_smell)*100))\n",
    "print('Prob Acertos Teste/Validação: %.1f'%(clf.score(X_test_smell,y_test_smell)*100))"
   ]
  },
  {
   "cell_type": "markdown",
   "id": "eece57ec81e53d36",
   "metadata": {},
   "source": [
    "<center><h2 color=\"#126D99\">Conclusões</h2></center>\n",
    "<div style=\"text-align: justify;text-justify: inter-word;\">\n",
    "Podemos concluir que o SVC obteve melhores resultados do que o KNN para a classificação multi-classe. No entanto, o SVC demorou muito mais tempo a ser executado do que o KNN. Apesar de ter obtido bons resultados no treino, na validação os resultados não foram tão bons. Isto pode ser explicado pelo facto de o modelo estar a fazer overfitting aos dados de treino, ou seja, o modelo está a memorizar os dados de treino em vez de aprender padrões que possam ser generalizados para dados não vistos. Vamos ver de seguida um pouco mais sobre isto.\n",
    "</div>\n",
    "\n",
    "<h3 color=\"#126D99\">Overfitting</h3>\n",
    "<div style=\"text-align: justify;text-justify: inter-word;\">\n",
    "O Overfitting é um comportamento que ocorre quando o modelo está tão alinhado com os dados de treino que não sabe como responder a novos dados. Este, pode ocorrer porque o modelo de é demasiado complexo; memoriza padrões muito subtis nos dados de treino que não se generalizam bem ou o tamanho dos dados de treino é demasiado pequeno para a complexidade do modelo e/ou contém grandes quantidades de informação irrelevante. É possível evitar o sobreajuste gerindo a complexidade do modelo complexidade do modelo e melhorando o conjunto de dados de treino.\n",
    "</div>\n",
    "\n",
    "<h2 style=\"background:#212121;color:yellow\">=POR AQUI A IMAGEM overfitting_table.png=</h2>\n",
    "\n",
    "<h3 color=\"#126D99\">Underfitting</h3>\n",
    "<div style=\"text-align: justify;text-justify: inter-word;\">\n",
    " Underfitting é quando um modelo estatístico ou um algorittmo não consegue captar a tendência subjacente dos dados, ou seja, só tem um bom desempenho nos dados de treino, mas tem um desempenho fraco nos dados de teste. (É como tentar usar calças de tamanho inferior ao normal). O Underfitting destrói a precisão do nosso modelo e significa simplesmente que este não se ajusta suficientemente bem aos dados. Normalmente acontece quando temos menos dados para construir um modelo preciso e também quando tentamos construir um modelo linear com menos dados não lineares. \n",
    "\n",
    "<h2 style=\"background:#212121;color:yellow\">=POR AQUI A IMAGEM underfitting_table.png=</h2>\n",
    "\n",
    "O Overfitting e o Underfitting podem estar presentes tanto nos modelos de classificação como nos modelos de regressão. A figura seguinte ilustra como o limite de decisão de classificação e a linha de regressão seguem os dados de treino demasiado perto para um modelo sobreajustado e não suficientemente perto para um modelo subajustado. \n",
    " </div>\n",
    "\n",
    "<h2 style=\"background:#212121;color:yellow\">=POR AQUI A IMAGEM graph_o_u_rf.png=</h2>\n"
   ]
  },
  {
   "cell_type": "markdown",
   "id": "537794ef7ea48708",
   "metadata": {},
   "source": [
    "<h2 color=\"#126D99\">Regressão / PCA / Clustering</h2>\n",
    "<div style=\"text-align: justify;text-justify: inter-word;\">\n",
    "Regressão é uma técnica estatística que visa modelar a relação entre uma variável dependente e uma ou mais variáveis independentes.\n",
    "</div><br>\n",
    "<div style=\"text-align: justify;text-justify: inter-word;\">\n",
    "PCA (Principal Component Analysis) é uma técnica de redução de dimensionalidade que visa reduzir o número de variáveis de um conjunto de dados, mantendo o máximo de informação possível.\n",
    "</div><br>\n",
    "<div style=\"text-align: justify;text-justify: inter-word;\">\n",
    "Clustering é uma técnica de aprendizagem não supervisionada que visa agrupar os dados em grupos de acordo com a sua semelhança\n",
    "</div>"
   ]
  },
  {
   "cell_type": "markdown",
   "id": "970f5f065c40d34f",
   "metadata": {},
   "source": [
    "# Resultados do teste"
   ]
  }
 ],
 "metadata": {
  "kernelspec": {
   "display_name": "Python 3 (ipykernel)",
   "language": "python",
   "name": "python3"
  },
  "language_info": {
   "codemirror_mode": {
    "name": "ipython",
    "version": 3
   },
   "file_extension": ".py",
   "mimetype": "text/x-python",
   "name": "python",
   "nbconvert_exporter": "python",
   "pygments_lexer": "ipython3",
   "version": "3.8.10"
  }
 },
 "nbformat": 4,
 "nbformat_minor": 5
}
